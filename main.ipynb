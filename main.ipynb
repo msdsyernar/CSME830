{
 "cells": [
  {
   "cell_type": "markdown",
   "id": "a8d4aea2",
   "metadata": {},
   "source": [
    "## House Price Prediction - USA "
   ]
  },
  {
   "cell_type": "markdown",
   "id": "2f6e8243",
   "metadata": {},
   "source": [
    "### About Dataset.\n",
    "This dataset contains Real Estate listings in the US broken by State and zip code."
   ]
  },
  {
   "cell_type": "markdown",
   "id": "47d4e833",
   "metadata": {},
   "source": [
    "### Content. "
   ]
  },
  {
   "cell_type": "markdown",
   "id": "ec37ca4b",
   "metadata": {},
   "source": [
    "realtor-data.csv (2,226,382 entries):\n",
    "\n",
    "    brokered by (categorically encoded agency/broker)\n",
    "    status (Housing status - a. ready for sale or b. ready to build)\n",
    "    price (Housing price, it is either the current listing price or recently sold price if the house is sold recently)\n",
    "    bed (# of beds)\n",
    "    bath (# of bathrooms)\n",
    "    acre_lot (Property / Land size in acres)\n",
    "    street (categorically encoded street address)\n",
    "    city (city name)\n",
    "    state (state name)\n",
    "    zip_code (postal code of the area)\n",
    "    house_size (house area/size/living space in square feet)\n",
    "    prev_sold_date (Previously sold date)\n",
    "\n",
    "NB:\n",
    "\n",
    "_brokered by and street addresses_ were categorically encoded due to data privacy policy.\n",
    "\n",
    "_acre_lot_ means the total land area, and _house_size_ denotes the living space/building area"
   ]
  },
  {
   "cell_type": "markdown",
   "id": "bf5b89eb",
   "metadata": {},
   "source": [
    "### Acknowledgment. \n"
   ]
  },
  {
   "cell_type": "markdown",
   "id": "e02dd928",
   "metadata": {},
   "source": [
    "Data was collected from - \n",
    "https://www.realtor.com/ - A real estate listing website operated by the News Corp subsidiary Move, Inc. and based in Santa Clara, California. It is the second most visited real estate listing website in the United States as of 2024, with over 100 million monthly active users."
   ]
  },
  {
   "cell_type": "markdown",
   "id": "ce4127cd",
   "metadata": {},
   "source": [
    "## Step 1. Data Overview."
   ]
  },
  {
   "cell_type": "code",
   "execution_count": 1,
   "id": "3c6a2d3e",
   "metadata": {},
   "outputs": [],
   "source": [
    "import pandas as pd\n",
    "import numpy as np\n",
    "import matplotlib.pyplot as plt\n",
    "import seaborn as sns\n",
    "from scipy import stats\n",
    "import plotly.express as px\n",
    "import plotly.graph_objects as go\n",
    "from plotly.subplots import make_subplots"
   ]
  },
  {
   "cell_type": "code",
   "execution_count": 2,
   "id": "d8446b91",
   "metadata": {},
   "outputs": [
    {
     "data": {
      "text/html": [
       "<div>\n",
       "<style scoped>\n",
       "    .dataframe tbody tr th:only-of-type {\n",
       "        vertical-align: middle;\n",
       "    }\n",
       "\n",
       "    .dataframe tbody tr th {\n",
       "        vertical-align: top;\n",
       "    }\n",
       "\n",
       "    .dataframe thead th {\n",
       "        text-align: right;\n",
       "    }\n",
       "</style>\n",
       "<table border=\"1\" class=\"dataframe\">\n",
       "  <thead>\n",
       "    <tr style=\"text-align: right;\">\n",
       "      <th></th>\n",
       "      <th>brokered_by</th>\n",
       "      <th>status</th>\n",
       "      <th>bed</th>\n",
       "      <th>bath</th>\n",
       "      <th>acre_lot</th>\n",
       "      <th>street</th>\n",
       "      <th>city</th>\n",
       "      <th>state</th>\n",
       "      <th>zip_code</th>\n",
       "      <th>house_size</th>\n",
       "      <th>prev_sold_date</th>\n",
       "      <th>price</th>\n",
       "    </tr>\n",
       "  </thead>\n",
       "  <tbody>\n",
       "    <tr>\n",
       "      <th>0</th>\n",
       "      <td>91206.0</td>\n",
       "      <td>sold</td>\n",
       "      <td>NaN</td>\n",
       "      <td>NaN</td>\n",
       "      <td>10.01</td>\n",
       "      <td>1879287.0</td>\n",
       "      <td>Temple</td>\n",
       "      <td>Texas</td>\n",
       "      <td>76501.0</td>\n",
       "      <td>NaN</td>\n",
       "      <td>2022-04-22</td>\n",
       "      <td>200000.0</td>\n",
       "    </tr>\n",
       "    <tr>\n",
       "      <th>1</th>\n",
       "      <td>16829.0</td>\n",
       "      <td>for_sale</td>\n",
       "      <td>4.0</td>\n",
       "      <td>3.0</td>\n",
       "      <td>0.21</td>\n",
       "      <td>1446993.0</td>\n",
       "      <td>San Francisco</td>\n",
       "      <td>California</td>\n",
       "      <td>94112.0</td>\n",
       "      <td>1530.0</td>\n",
       "      <td>NaN</td>\n",
       "      <td>1195000.0</td>\n",
       "    </tr>\n",
       "    <tr>\n",
       "      <th>2</th>\n",
       "      <td>20082.0</td>\n",
       "      <td>sold</td>\n",
       "      <td>2.0</td>\n",
       "      <td>2.0</td>\n",
       "      <td>30.81</td>\n",
       "      <td>1653941.0</td>\n",
       "      <td>Saint Petersburg</td>\n",
       "      <td>Florida</td>\n",
       "      <td>33716.0</td>\n",
       "      <td>975.0</td>\n",
       "      <td>2022-02-25</td>\n",
       "      <td>185000.0</td>\n",
       "    </tr>\n",
       "    <tr>\n",
       "      <th>3</th>\n",
       "      <td>73706.0</td>\n",
       "      <td>sold</td>\n",
       "      <td>2.0</td>\n",
       "      <td>1.0</td>\n",
       "      <td>1.58</td>\n",
       "      <td>136346.0</td>\n",
       "      <td>Friendship</td>\n",
       "      <td>Wisconsin</td>\n",
       "      <td>53934.0</td>\n",
       "      <td>700.0</td>\n",
       "      <td>2022-04-28</td>\n",
       "      <td>69000.0</td>\n",
       "    </tr>\n",
       "    <tr>\n",
       "      <th>4</th>\n",
       "      <td>45276.0</td>\n",
       "      <td>for_sale</td>\n",
       "      <td>4.0</td>\n",
       "      <td>4.0</td>\n",
       "      <td>0.12</td>\n",
       "      <td>1549817.0</td>\n",
       "      <td>West Jordan</td>\n",
       "      <td>Utah</td>\n",
       "      <td>84081.0</td>\n",
       "      <td>1888.0</td>\n",
       "      <td>2020-10-09</td>\n",
       "      <td>515000.0</td>\n",
       "    </tr>\n",
       "  </tbody>\n",
       "</table>\n",
       "</div>"
      ],
      "text/plain": [
       "   brokered_by    status  bed  bath  acre_lot     street              city  \\\n",
       "0      91206.0      sold  NaN   NaN     10.01  1879287.0            Temple   \n",
       "1      16829.0  for_sale  4.0   3.0      0.21  1446993.0     San Francisco   \n",
       "2      20082.0      sold  2.0   2.0     30.81  1653941.0  Saint Petersburg   \n",
       "3      73706.0      sold  2.0   1.0      1.58   136346.0        Friendship   \n",
       "4      45276.0  for_sale  4.0   4.0      0.12  1549817.0       West Jordan   \n",
       "\n",
       "        state  zip_code  house_size prev_sold_date      price  \n",
       "0       Texas   76501.0         NaN     2022-04-22   200000.0  \n",
       "1  California   94112.0      1530.0            NaN  1195000.0  \n",
       "2     Florida   33716.0       975.0     2022-02-25   185000.0  \n",
       "3   Wisconsin   53934.0       700.0     2022-04-28    69000.0  \n",
       "4        Utah   84081.0      1888.0     2020-10-09   515000.0  "
      ]
     },
     "execution_count": 2,
     "metadata": {},
     "output_type": "execute_result"
    }
   ],
   "source": [
    "data = pd.read_csv('train_set.csv')\n",
    "df = data.copy()\n",
    "df.head()"
   ]
  },
  {
   "cell_type": "code",
   "execution_count": 3,
   "id": "f29e0a36",
   "metadata": {},
   "outputs": [
    {
     "data": {
      "text/plain": [
       "(1781105, 12)"
      ]
     },
     "execution_count": 3,
     "metadata": {},
     "output_type": "execute_result"
    }
   ],
   "source": [
    "data.shape"
   ]
  },
  {
   "cell_type": "code",
   "execution_count": 4,
   "id": "860b8231",
   "metadata": {},
   "outputs": [
    {
     "name": "stdout",
     "output_type": "stream",
     "text": [
      "<class 'pandas.core.frame.DataFrame'>\n",
      "RangeIndex: 1781105 entries, 0 to 1781104\n",
      "Data columns (total 12 columns):\n",
      " #   Column          Dtype  \n",
      "---  ------          -----  \n",
      " 0   brokered_by     float64\n",
      " 1   status          object \n",
      " 2   bed             float64\n",
      " 3   bath            float64\n",
      " 4   acre_lot        float64\n",
      " 5   street          float64\n",
      " 6   city            object \n",
      " 7   state           object \n",
      " 8   zip_code        float64\n",
      " 9   house_size      float64\n",
      " 10  prev_sold_date  object \n",
      " 11  price           float64\n",
      "dtypes: float64(8), object(4)\n",
      "memory usage: 163.1+ MB\n"
     ]
    }
   ],
   "source": [
    "data.info()"
   ]
  },
  {
   "cell_type": "code",
   "execution_count": 5,
   "id": "8ebc190d",
   "metadata": {},
   "outputs": [
    {
     "data": {
      "text/html": [
       "<div>\n",
       "<style scoped>\n",
       "    .dataframe tbody tr th:only-of-type {\n",
       "        vertical-align: middle;\n",
       "    }\n",
       "\n",
       "    .dataframe tbody tr th {\n",
       "        vertical-align: top;\n",
       "    }\n",
       "\n",
       "    .dataframe thead th {\n",
       "        text-align: right;\n",
       "    }\n",
       "</style>\n",
       "<table border=\"1\" class=\"dataframe\">\n",
       "  <thead>\n",
       "    <tr style=\"text-align: right;\">\n",
       "      <th></th>\n",
       "      <th>brokered_by</th>\n",
       "      <th>bed</th>\n",
       "      <th>bath</th>\n",
       "      <th>acre_lot</th>\n",
       "      <th>street</th>\n",
       "      <th>zip_code</th>\n",
       "      <th>house_size</th>\n",
       "      <th>price</th>\n",
       "    </tr>\n",
       "  </thead>\n",
       "  <tbody>\n",
       "    <tr>\n",
       "      <th>count</th>\n",
       "      <td>1.777457e+06</td>\n",
       "      <td>1.396118e+06</td>\n",
       "      <td>1.371738e+06</td>\n",
       "      <td>1.520724e+06</td>\n",
       "      <td>1.772396e+06</td>\n",
       "      <td>1.780862e+06</td>\n",
       "      <td>1.326633e+06</td>\n",
       "      <td>1.779868e+06</td>\n",
       "    </tr>\n",
       "    <tr>\n",
       "      <th>mean</th>\n",
       "      <td>5.293091e+04</td>\n",
       "      <td>3.275631e+00</td>\n",
       "      <td>2.496633e+00</td>\n",
       "      <td>1.494546e+01</td>\n",
       "      <td>1.012208e+06</td>\n",
       "      <td>5.219230e+04</td>\n",
       "      <td>2.877319e+03</td>\n",
       "      <td>5.249854e+05</td>\n",
       "    </tr>\n",
       "    <tr>\n",
       "      <th>std</th>\n",
       "      <td>3.064363e+04</td>\n",
       "      <td>1.598861e+00</td>\n",
       "      <td>1.722645e+00</td>\n",
       "      <td>7.479973e+02</td>\n",
       "      <td>5.837096e+05</td>\n",
       "      <td>2.895639e+04</td>\n",
       "      <td>9.034437e+05</td>\n",
       "      <td>2.299435e+06</td>\n",
       "    </tr>\n",
       "    <tr>\n",
       "      <th>min</th>\n",
       "      <td>0.000000e+00</td>\n",
       "      <td>1.000000e+00</td>\n",
       "      <td>1.000000e+00</td>\n",
       "      <td>0.000000e+00</td>\n",
       "      <td>0.000000e+00</td>\n",
       "      <td>6.010000e+02</td>\n",
       "      <td>4.000000e+00</td>\n",
       "      <td>0.000000e+00</td>\n",
       "    </tr>\n",
       "    <tr>\n",
       "      <th>25%</th>\n",
       "      <td>2.385900e+04</td>\n",
       "      <td>3.000000e+00</td>\n",
       "      <td>2.000000e+00</td>\n",
       "      <td>1.500000e-01</td>\n",
       "      <td>5.061788e+05</td>\n",
       "      <td>2.961700e+04</td>\n",
       "      <td>1.300000e+03</td>\n",
       "      <td>1.650000e+05</td>\n",
       "    </tr>\n",
       "    <tr>\n",
       "      <th>50%</th>\n",
       "      <td>5.288400e+04</td>\n",
       "      <td>3.000000e+00</td>\n",
       "      <td>2.000000e+00</td>\n",
       "      <td>2.600000e-01</td>\n",
       "      <td>1.012610e+06</td>\n",
       "      <td>4.842000e+04</td>\n",
       "      <td>1.760000e+03</td>\n",
       "      <td>3.250000e+05</td>\n",
       "    </tr>\n",
       "    <tr>\n",
       "      <th>75%</th>\n",
       "      <td>7.918000e+04</td>\n",
       "      <td>4.000000e+00</td>\n",
       "      <td>3.000000e+00</td>\n",
       "      <td>9.800000e-01</td>\n",
       "      <td>1.521023e+06</td>\n",
       "      <td>7.807000e+04</td>\n",
       "      <td>2.413000e+03</td>\n",
       "      <td>5.500000e+05</td>\n",
       "    </tr>\n",
       "    <tr>\n",
       "      <th>max</th>\n",
       "      <td>1.101420e+05</td>\n",
       "      <td>4.730000e+02</td>\n",
       "      <td>8.300000e+02</td>\n",
       "      <td>1.000000e+05</td>\n",
       "      <td>2.001356e+06</td>\n",
       "      <td>9.999900e+04</td>\n",
       "      <td>1.040400e+09</td>\n",
       "      <td>2.147484e+09</td>\n",
       "    </tr>\n",
       "  </tbody>\n",
       "</table>\n",
       "</div>"
      ],
      "text/plain": [
       "        brokered_by           bed          bath      acre_lot        street  \\\n",
       "count  1.777457e+06  1.396118e+06  1.371738e+06  1.520724e+06  1.772396e+06   \n",
       "mean   5.293091e+04  3.275631e+00  2.496633e+00  1.494546e+01  1.012208e+06   \n",
       "std    3.064363e+04  1.598861e+00  1.722645e+00  7.479973e+02  5.837096e+05   \n",
       "min    0.000000e+00  1.000000e+00  1.000000e+00  0.000000e+00  0.000000e+00   \n",
       "25%    2.385900e+04  3.000000e+00  2.000000e+00  1.500000e-01  5.061788e+05   \n",
       "50%    5.288400e+04  3.000000e+00  2.000000e+00  2.600000e-01  1.012610e+06   \n",
       "75%    7.918000e+04  4.000000e+00  3.000000e+00  9.800000e-01  1.521023e+06   \n",
       "max    1.101420e+05  4.730000e+02  8.300000e+02  1.000000e+05  2.001356e+06   \n",
       "\n",
       "           zip_code    house_size         price  \n",
       "count  1.780862e+06  1.326633e+06  1.779868e+06  \n",
       "mean   5.219230e+04  2.877319e+03  5.249854e+05  \n",
       "std    2.895639e+04  9.034437e+05  2.299435e+06  \n",
       "min    6.010000e+02  4.000000e+00  0.000000e+00  \n",
       "25%    2.961700e+04  1.300000e+03  1.650000e+05  \n",
       "50%    4.842000e+04  1.760000e+03  3.250000e+05  \n",
       "75%    7.807000e+04  2.413000e+03  5.500000e+05  \n",
       "max    9.999900e+04  1.040400e+09  2.147484e+09  "
      ]
     },
     "execution_count": 5,
     "metadata": {},
     "output_type": "execute_result"
    }
   ],
   "source": [
    "df.describe()"
   ]
  },
  {
   "cell_type": "markdown",
   "id": "efcbeba1",
   "metadata": {},
   "source": [
    "_brokered by_ and _street_ were encoded due to data privacy, therefore there is no reason to keep them and work with them."
   ]
  },
  {
   "cell_type": "code",
   "execution_count": 6,
   "id": "6cd67649",
   "metadata": {},
   "outputs": [
    {
     "name": "stdout",
     "output_type": "stream",
     "text": [
      "<class 'pandas.core.frame.DataFrame'>\n",
      "RangeIndex: 1781105 entries, 0 to 1781104\n",
      "Data columns (total 10 columns):\n",
      " #   Column          Dtype  \n",
      "---  ------          -----  \n",
      " 0   status          object \n",
      " 1   bed             float64\n",
      " 2   bath            float64\n",
      " 3   acre_lot        float64\n",
      " 4   city            object \n",
      " 5   state           object \n",
      " 6   zip_code        float64\n",
      " 7   house_size      float64\n",
      " 8   prev_sold_date  object \n",
      " 9   price           float64\n",
      "dtypes: float64(6), object(4)\n",
      "memory usage: 135.9+ MB\n"
     ]
    }
   ],
   "source": [
    "#drop columns brokered by and street\n",
    "df = df.drop(columns=['brokered_by','street'])\n",
    "df.info()"
   ]
  },
  {
   "cell_type": "markdown",
   "id": "db75049f",
   "metadata": {},
   "source": [
    "Dropping the columns helped to reduce memory usage (from 163+ MB to 135+ MB)."
   ]
  },
  {
   "cell_type": "code",
   "execution_count": 7,
   "id": "8598fed6",
   "metadata": {},
   "outputs": [
    {
     "data": {
      "text/plain": [
       "Index(['status', 'bed', 'bath', 'acre_lot', 'city', 'state', 'zip_code',\n",
       "       'house_size', 'prev_sold_date', 'price'],\n",
       "      dtype='object')"
      ]
     },
     "execution_count": 7,
     "metadata": {},
     "output_type": "execute_result"
    }
   ],
   "source": [
    "# now we have 10 columns\n",
    "df.columns"
   ]
  },
  {
   "cell_type": "markdown",
   "id": "d14f2fd3",
   "metadata": {},
   "source": []
  },
  {
   "cell_type": "markdown",
   "id": "a6d633ae",
   "metadata": {},
   "source": [
    "## Step 2. Data Preprocessing "
   ]
  },
  {
   "cell_type": "markdown",
   "id": "d54efa30",
   "metadata": {},
   "source": [
    "### Initial Step"
   ]
  },
  {
   "cell_type": "code",
   "execution_count": 8,
   "id": "54b3e662",
   "metadata": {},
   "outputs": [
    {
     "data": {
      "text/html": [
       "<div>\n",
       "<style scoped>\n",
       "    .dataframe tbody tr th:only-of-type {\n",
       "        vertical-align: middle;\n",
       "    }\n",
       "\n",
       "    .dataframe tbody tr th {\n",
       "        vertical-align: top;\n",
       "    }\n",
       "\n",
       "    .dataframe thead th {\n",
       "        text-align: right;\n",
       "    }\n",
       "</style>\n",
       "<table border=\"1\" class=\"dataframe\">\n",
       "  <thead>\n",
       "    <tr style=\"text-align: right;\">\n",
       "      <th></th>\n",
       "      <th>status</th>\n",
       "      <th>bed</th>\n",
       "      <th>bath</th>\n",
       "      <th>acre_lot</th>\n",
       "      <th>city</th>\n",
       "      <th>state</th>\n",
       "      <th>zip_code</th>\n",
       "      <th>house_size</th>\n",
       "      <th>prev_sold_date</th>\n",
       "      <th>price</th>\n",
       "    </tr>\n",
       "  </thead>\n",
       "  <tbody>\n",
       "    <tr>\n",
       "      <th>0</th>\n",
       "      <td>sold</td>\n",
       "      <td>NaN</td>\n",
       "      <td>NaN</td>\n",
       "      <td>10.01</td>\n",
       "      <td>Temple</td>\n",
       "      <td>Texas</td>\n",
       "      <td>76501.0</td>\n",
       "      <td>NaN</td>\n",
       "      <td>2022-04-22</td>\n",
       "      <td>200000.0</td>\n",
       "    </tr>\n",
       "    <tr>\n",
       "      <th>1</th>\n",
       "      <td>for_sale</td>\n",
       "      <td>4.0</td>\n",
       "      <td>3.0</td>\n",
       "      <td>0.21</td>\n",
       "      <td>San Francisco</td>\n",
       "      <td>California</td>\n",
       "      <td>94112.0</td>\n",
       "      <td>1530.0</td>\n",
       "      <td>NaN</td>\n",
       "      <td>1195000.0</td>\n",
       "    </tr>\n",
       "    <tr>\n",
       "      <th>2</th>\n",
       "      <td>sold</td>\n",
       "      <td>2.0</td>\n",
       "      <td>2.0</td>\n",
       "      <td>30.81</td>\n",
       "      <td>Saint Petersburg</td>\n",
       "      <td>Florida</td>\n",
       "      <td>33716.0</td>\n",
       "      <td>975.0</td>\n",
       "      <td>2022-02-25</td>\n",
       "      <td>185000.0</td>\n",
       "    </tr>\n",
       "    <tr>\n",
       "      <th>3</th>\n",
       "      <td>sold</td>\n",
       "      <td>2.0</td>\n",
       "      <td>1.0</td>\n",
       "      <td>1.58</td>\n",
       "      <td>Friendship</td>\n",
       "      <td>Wisconsin</td>\n",
       "      <td>53934.0</td>\n",
       "      <td>700.0</td>\n",
       "      <td>2022-04-28</td>\n",
       "      <td>69000.0</td>\n",
       "    </tr>\n",
       "    <tr>\n",
       "      <th>4</th>\n",
       "      <td>for_sale</td>\n",
       "      <td>4.0</td>\n",
       "      <td>4.0</td>\n",
       "      <td>0.12</td>\n",
       "      <td>West Jordan</td>\n",
       "      <td>Utah</td>\n",
       "      <td>84081.0</td>\n",
       "      <td>1888.0</td>\n",
       "      <td>2020-10-09</td>\n",
       "      <td>515000.0</td>\n",
       "    </tr>\n",
       "  </tbody>\n",
       "</table>\n",
       "</div>"
      ],
      "text/plain": [
       "     status  bed  bath  acre_lot              city       state  zip_code  \\\n",
       "0      sold  NaN   NaN     10.01            Temple       Texas   76501.0   \n",
       "1  for_sale  4.0   3.0      0.21     San Francisco  California   94112.0   \n",
       "2      sold  2.0   2.0     30.81  Saint Petersburg     Florida   33716.0   \n",
       "3      sold  2.0   1.0      1.58        Friendship   Wisconsin   53934.0   \n",
       "4  for_sale  4.0   4.0      0.12       West Jordan        Utah   84081.0   \n",
       "\n",
       "   house_size prev_sold_date      price  \n",
       "0         NaN     2022-04-22   200000.0  \n",
       "1      1530.0            NaN  1195000.0  \n",
       "2       975.0     2022-02-25   185000.0  \n",
       "3       700.0     2022-04-28    69000.0  \n",
       "4      1888.0     2020-10-09   515000.0  "
      ]
     },
     "execution_count": 8,
     "metadata": {},
     "output_type": "execute_result"
    }
   ],
   "source": [
    "df.head()"
   ]
  },
  {
   "cell_type": "code",
   "execution_count": 9,
   "id": "e9ba436e",
   "metadata": {},
   "outputs": [
    {
     "data": {
      "text/html": [
       "<div>\n",
       "<style scoped>\n",
       "    .dataframe tbody tr th:only-of-type {\n",
       "        vertical-align: middle;\n",
       "    }\n",
       "\n",
       "    .dataframe tbody tr th {\n",
       "        vertical-align: top;\n",
       "    }\n",
       "\n",
       "    .dataframe thead th {\n",
       "        text-align: right;\n",
       "    }\n",
       "</style>\n",
       "<table border=\"1\" class=\"dataframe\">\n",
       "  <thead>\n",
       "    <tr style=\"text-align: right;\">\n",
       "      <th></th>\n",
       "      <th>Missing Values</th>\n",
       "      <th>Percentage</th>\n",
       "    </tr>\n",
       "  </thead>\n",
       "  <tbody>\n",
       "    <tr>\n",
       "      <th>prev_sold_date</th>\n",
       "      <td>587360</td>\n",
       "      <td>32.98</td>\n",
       "    </tr>\n",
       "    <tr>\n",
       "      <th>house_size</th>\n",
       "      <td>454472</td>\n",
       "      <td>25.52</td>\n",
       "    </tr>\n",
       "    <tr>\n",
       "      <th>bath</th>\n",
       "      <td>409367</td>\n",
       "      <td>22.98</td>\n",
       "    </tr>\n",
       "    <tr>\n",
       "      <th>bed</th>\n",
       "      <td>384987</td>\n",
       "      <td>21.62</td>\n",
       "    </tr>\n",
       "    <tr>\n",
       "      <th>acre_lot</th>\n",
       "      <td>260381</td>\n",
       "      <td>14.62</td>\n",
       "    </tr>\n",
       "    <tr>\n",
       "      <th>price</th>\n",
       "      <td>1237</td>\n",
       "      <td>0.07</td>\n",
       "    </tr>\n",
       "    <tr>\n",
       "      <th>city</th>\n",
       "      <td>1116</td>\n",
       "      <td>0.06</td>\n",
       "    </tr>\n",
       "    <tr>\n",
       "      <th>zip_code</th>\n",
       "      <td>243</td>\n",
       "      <td>0.01</td>\n",
       "    </tr>\n",
       "    <tr>\n",
       "      <th>status</th>\n",
       "      <td>0</td>\n",
       "      <td>0.00</td>\n",
       "    </tr>\n",
       "    <tr>\n",
       "      <th>state</th>\n",
       "      <td>5</td>\n",
       "      <td>0.00</td>\n",
       "    </tr>\n",
       "  </tbody>\n",
       "</table>\n",
       "</div>"
      ],
      "text/plain": [
       "                Missing Values  Percentage\n",
       "prev_sold_date          587360       32.98\n",
       "house_size              454472       25.52\n",
       "bath                    409367       22.98\n",
       "bed                     384987       21.62\n",
       "acre_lot                260381       14.62\n",
       "price                     1237        0.07\n",
       "city                      1116        0.06\n",
       "zip_code                   243        0.01\n",
       "status                       0        0.00\n",
       "state                        5        0.00"
      ]
     },
     "execution_count": 9,
     "metadata": {},
     "output_type": "execute_result"
    }
   ],
   "source": [
    "# function to report the missing percentage and values\n",
    "def missing_report(df):\n",
    "    missing_values = df.isnull().sum() # count of missing values\n",
    "    missing_percentage = (missing_values / len(df)) * 100 # percentage of missing values\n",
    "    # display the results in a df\n",
    "    missing_data = pd.DataFrame({'Missing Values': missing_values, 'Percentage': missing_percentage.round(2)})\n",
    "    return missing_data.sort_values(by = \"Percentage\", ascending=False)\n",
    "missing_report(df)"
   ]
  },
  {
   "cell_type": "markdown",
   "id": "53b48c01",
   "metadata": {},
   "source": [
    "I decided to drop the minimal missing values, such as zip-code, state, city, and price. Specially the price, it's not reasonable to predict the price without knowing the price. "
   ]
  },
  {
   "cell_type": "code",
   "execution_count": 10,
   "id": "589eae46",
   "metadata": {},
   "outputs": [
    {
     "data": {
      "text/html": [
       "<div>\n",
       "<style scoped>\n",
       "    .dataframe tbody tr th:only-of-type {\n",
       "        vertical-align: middle;\n",
       "    }\n",
       "\n",
       "    .dataframe tbody tr th {\n",
       "        vertical-align: top;\n",
       "    }\n",
       "\n",
       "    .dataframe thead th {\n",
       "        text-align: right;\n",
       "    }\n",
       "</style>\n",
       "<table border=\"1\" class=\"dataframe\">\n",
       "  <thead>\n",
       "    <tr style=\"text-align: right;\">\n",
       "      <th></th>\n",
       "      <th>Missing Values</th>\n",
       "      <th>Percentage</th>\n",
       "    </tr>\n",
       "  </thead>\n",
       "  <tbody>\n",
       "    <tr>\n",
       "      <th>prev_sold_date</th>\n",
       "      <td>585537</td>\n",
       "      <td>32.92</td>\n",
       "    </tr>\n",
       "    <tr>\n",
       "      <th>house_size</th>\n",
       "      <td>453056</td>\n",
       "      <td>25.47</td>\n",
       "    </tr>\n",
       "    <tr>\n",
       "      <th>bath</th>\n",
       "      <td>407815</td>\n",
       "      <td>22.93</td>\n",
       "    </tr>\n",
       "    <tr>\n",
       "      <th>bed</th>\n",
       "      <td>383703</td>\n",
       "      <td>21.57</td>\n",
       "    </tr>\n",
       "    <tr>\n",
       "      <th>acre_lot</th>\n",
       "      <td>259948</td>\n",
       "      <td>14.62</td>\n",
       "    </tr>\n",
       "    <tr>\n",
       "      <th>status</th>\n",
       "      <td>0</td>\n",
       "      <td>0.00</td>\n",
       "    </tr>\n",
       "    <tr>\n",
       "      <th>city</th>\n",
       "      <td>0</td>\n",
       "      <td>0.00</td>\n",
       "    </tr>\n",
       "    <tr>\n",
       "      <th>state</th>\n",
       "      <td>0</td>\n",
       "      <td>0.00</td>\n",
       "    </tr>\n",
       "    <tr>\n",
       "      <th>zip_code</th>\n",
       "      <td>0</td>\n",
       "      <td>0.00</td>\n",
       "    </tr>\n",
       "    <tr>\n",
       "      <th>price</th>\n",
       "      <td>0</td>\n",
       "      <td>0.00</td>\n",
       "    </tr>\n",
       "  </tbody>\n",
       "</table>\n",
       "</div>"
      ],
      "text/plain": [
       "                Missing Values  Percentage\n",
       "prev_sold_date          585537       32.92\n",
       "house_size              453056       25.47\n",
       "bath                    407815       22.93\n",
       "bed                     383703       21.57\n",
       "acre_lot                259948       14.62\n",
       "status                       0        0.00\n",
       "city                         0        0.00\n",
       "state                        0        0.00\n",
       "zip_code                     0        0.00\n",
       "price                        0        0.00"
      ]
     },
     "execution_count": 10,
     "metadata": {},
     "output_type": "execute_result"
    }
   ],
   "source": [
    "### HANDLING MISSING VALUES ###\n",
    "\n",
    "# Dropping rows with missing values in 'zip_code', 'state', 'city', and 'price'\n",
    "df = df.dropna(subset=['zip_code', 'state', 'city', 'price']) \n",
    "missing_report(df)"
   ]
  },
  {
   "cell_type": "markdown",
   "id": "e8e87b15",
   "metadata": {},
   "source": [
    "### Step 2.0 Prev_sold_date"
   ]
  },
  {
   "cell_type": "markdown",
   "id": "28441d66",
   "metadata": {},
   "source": [
    "_prev sold date_ has 32.92% of missing values. We cannot just drop it, we might lose useful infomation. \n",
    "\n",
    "There might be three possible reasons:\n",
    "1. houses never sold before (if there's overlap between status(ready to built = new homes = never sold before)?)\n",
    "2. first time listings\n",
    "3. data not available. \n"
   ]
  },
  {
   "cell_type": "code",
   "execution_count": 11,
   "id": "a65af83f",
   "metadata": {},
   "outputs": [
    {
     "data": {
      "text/plain": [
       "status\n",
       "for_sale          1109351\n",
       "sold               649400\n",
       "ready_to_build      19844\n",
       "Name: count, dtype: int64"
      ]
     },
     "execution_count": 11,
     "metadata": {},
     "output_type": "execute_result"
    }
   ],
   "source": [
    "# 1. houses never sold before (if there's overlap between status(ready to built))\n",
    "df['status'].value_counts()"
   ]
  },
  {
   "cell_type": "code",
   "execution_count": 12,
   "id": "89249292",
   "metadata": {},
   "outputs": [],
   "source": [
    "# Create a new binary feature 'has_prev_sale', if date exits then 1 else 0\n",
    "df['has_prev_sale'] = np.where(df['prev_sold_date'].isnull(), 0, 1)"
   ]
  },
  {
   "cell_type": "code",
   "execution_count": 13,
   "id": "ccb81a2e",
   "metadata": {},
   "outputs": [
    {
     "data": {
      "text/plain": [
       "status          has_prev_sale\n",
       "for_sale        0                0.509931\n",
       "                1                0.490069\n",
       "ready_to_build  0                1.000000\n",
       "sold            1                1.000000\n",
       "Name: proportion, dtype: float64"
      ]
     },
     "execution_count": 13,
     "metadata": {},
     "output_type": "execute_result"
    }
   ],
   "source": [
    "# Questions to explore:\n",
    "# Are these missing values related to status? (e.g., \"ready to build\" = new homes = no previous sale?)\n",
    "df['status'].value_counts()\n",
    "df.groupby('status')['has_prev_sale'].value_counts(normalize=True)"
   ]
  },
  {
   "cell_type": "markdown",
   "id": "210f4366",
   "metadata": {},
   "source": [
    "50.9% and all 100% of missing values are from properties for sale and ready_to_build respectively. It makes sense. We can conclude that the missingness is depends on feature itself, since it never been sold before. Therefore, it's MNAR. The missing values carrie information, it's a new property, not a resale, etc. \n",
    "\n",
    "Rather than imputing a fake data in the _prev sold date_ I have created a new feature to check if the property is a new construction or have been sold before. And if the property was sold before, we will have a history of sale. "
   ]
  },
  {
   "cell_type": "markdown",
   "id": "f4e1d73f",
   "metadata": {},
   "source": [
    "### Step 2.1 bed, bath, house_size"
   ]
  },
  {
   "cell_type": "markdown",
   "id": "24e1578f",
   "metadata": {},
   "source": [
    "Each of these attributes have more than 20% of missingness. \n",
    "\n",
    "Questions to explore:\n",
    "\n",
    "Are missing house_size correlated with \"ready to build\" status?\n",
    "\n",
    "Can you impute based on bed, bath, state, city?\n",
    "\n",
    "What's the overlap with missing bed/bath?"
   ]
  },
  {
   "cell_type": "code",
   "execution_count": 14,
   "id": "079a6574",
   "metadata": {},
   "outputs": [
    {
     "data": {
      "text/plain": [
       "Text(0.5, 0, 'Status')"
      ]
     },
     "execution_count": 14,
     "metadata": {},
     "output_type": "execute_result"
    },
    {
     "data": {
      "image/png": "[encoded data removed]",
      "text/plain": [
       "<Figure size 800x500 with 1 Axes>"
      ]
     },
     "metadata": {},
     "output_type": "display_data"
    }
   ],
   "source": [
    "# visualization of overlap between house_size missingness and ready_to_build status\n",
    "plt.figure(figsize=(8, 5))\n",
    "sns.countplot(data=df, x='status', hue=df['house_size'].isnull())\n",
    "plt.title('House Size Missingness by Status')\n",
    "plt.xlabel('Status')"
   ]
  },
  {
   "cell_type": "code",
   "execution_count": 15,
   "id": "3fc36430",
   "metadata": {},
   "outputs": [
    {
     "data": {
      "application/vnd.plotly.v1+json": {
       "config": {
        "plotlyServerURL": "https://plot.ly"
       },
       "data": [
        {
         "hole": 0.4,
         "labels": [
          "None missing",
          "Only bed missing",
          "Only bath missing",
          "Only house_size missing",
          "Bed and bath missing",
          "Bed and house_size missing",
          "Bath and house_size missing",
          "All missing"
         ],
         "marker": {
          "colors": [
           "#2ecc71",
           "#f39c12",
           "#e67e22",
           "#3498db",
           "#e74c3c",
           "#c0392b",
           "#e74c3c",
           "#8e44ad"
          ]
         },
         "pull": [
          0,
          0,
          0,
          0,
          0.05,
          0.05,
          0.05,
          0.15
         ],
         "textinfo": "label+percent",
         "textposition": "auto",
         "type": "pie",
         "values": [
          1284240,
          5909,
          24987,
          78971,
          10403,
          1660,
          6694,
          365731
         ]
        }
       ],
       "layout": {
        "annotations": [
         {
          "font": {
           "family": "Arial Black",
           "size": 16
          },
          "showarrow": false,
          "text": "Total: 1,778,595<br>rows",
          "x": 0.5,
          "y": 0.5
         }
        ],
        "height": 600,
        "legend": {
         "font": {
          "size": 12
         },
         "orientation": "v",
         "x": 1.05,
         "xanchor": "left",
         "y": 0.5,
         "yanchor": "middle"
        },
        "showlegend": true,
        "template": {
         "data": {
          "bar": [
           {
            "error_x": {
             "color": "#2a3f5f"
            },
            "error_y": {
             "color": "#2a3f5f"
            },
            "marker": {
             "line": {
              "color": "white",
              "width": 0.5
             },
             "pattern": {
              "fillmode": "overlay",
              "size": 10,
              "solidity": 0.2
             }
            },
            "type": "bar"
           }
          ],
          "barpolar": [
           {
            "marker": {
             "line": {
              "color": "white",
              "width": 0.5
             },
             "pattern": {
              "fillmode": "overlay",
              "size": 10,
              "solidity": 0.2
             }
            },
            "type": "barpolar"
           }
          ],
          "carpet": [
           {
            "aaxis": {
             "endlinecolor": "#2a3f5f",
             "gridcolor": "#C8D4E3",
             "linecolor": "#C8D4E3",
             "minorgridcolor": "#C8D4E3",
             "startlinecolor": "#2a3f5f"
            },
            "baxis": {
             "endlinecolor": "#2a3f5f",
             "gridcolor": "#C8D4E3",
             "linecolor": "#C8D4E3",
             "minorgridcolor": "#C8D4E3",
             "startlinecolor": "#2a3f5f"
            },
            "type": "carpet"
           }
          ],
          "choropleth": [
           {
            "colorbar": {
             "outlinewidth": 0,
             "ticks": ""
            },
            "type": "choropleth"
           }
          ],
          "contour": [
           {
            "colorbar": {
             "outlinewidth": 0,
             "ticks": ""
            },
            "colorscale": [
             [
              0,
              "#0d0887"
             ],
             [
              0.1111111111111111,
              "#46039f"
             ],
             [
              0.2222222222222222,
              "#7201a8"
             ],
             [
              0.3333333333333333,
              "#9c179e"
             ],
             [
              0.4444444444444444,
              "#bd3786"
             ],
             [
              0.5555555555555556,
              "#d8576b"
             ],
             [
              0.6666666666666666,
              "#ed7953"
             ],
             [
              0.7777777777777778,
              "#fb9f3a"
             ],
             [
              0.8888888888888888,
              "#fdca26"
             ],
             [
              1,
              "#f0f921"
             ]
            ],
            "type": "contour"
           }
          ],
          "contourcarpet": [
           {
            "colorbar": {
             "outlinewidth": 0,
             "ticks": ""
            },
            "type": "contourcarpet"
           }
          ],
          "heatmap": [
           {
            "colorbar": {
             "outlinewidth": 0,
             "ticks": ""
            },
            "colorscale": [
             [
              0,
              "#0d0887"
             ],
             [
              0.1111111111111111,
              "#46039f"
             ],
             [
              0.2222222222222222,
              "#7201a8"
             ],
             [
              0.3333333333333333,
              "#9c179e"
             ],
             [
              0.4444444444444444,
              "#bd3786"
             ],
             [
              0.5555555555555556,
              "#d8576b"
             ],
             [
              0.6666666666666666,
              "#ed7953"
             ],
             [
              0.7777777777777778,
              "#fb9f3a"
             ],
             [
              0.8888888888888888,
              "#fdca26"
             ],
             [
              1,
              "#f0f921"
             ]
            ],
            "type": "heatmap"
           }
          ],
          "heatmapgl": [
           {
            "colorbar": {
             "outlinewidth": 0,
             "ticks": ""
            },
            "colorscale": [
             [
              0,
              "#0d0887"
             ],
             [
              0.1111111111111111,
              "#46039f"
             ],
             [
              0.2222222222222222,
              "#7201a8"
             ],
             [
              0.3333333333333333,
              "#9c179e"
             ],
             [
              0.4444444444444444,
              "#bd3786"
             ],
             [
              0.5555555555555556,
              "#d8576b"
             ],
             [
              0.6666666666666666,
              "#ed7953"
             ],
             [
              0.7777777777777778,
              "#fb9f3a"
             ],
             [
              0.8888888888888888,
              "#fdca26"
             ],
             [
              1,
              "#f0f921"
             ]
            ],
            "type": "heatmapgl"
           }
          ],
          "histogram": [
           {
            "marker": {
             "pattern": {
              "fillmode": "overlay",
              "size": 10,
              "solidity": 0.2
             }
            },
            "type": "histogram"
           }
          ],
          "histogram2d": [
           {
            "colorbar": {
             "outlinewidth": 0,
             "ticks": ""
            },
            "colorscale": [
             [
              0,
              "#0d0887"
             ],
             [
              0.1111111111111111,
              "#46039f"
             ],
             [
              0.2222222222222222,
              "#7201a8"
             ],
             [
              0.3333333333333333,
              "#9c179e"
             ],
             [
              0.4444444444444444,
              "#bd3786"
             ],
             [
              0.5555555555555556,
              "#d8576b"
             ],
             [
              0.6666666666666666,
              "#ed7953"
             ],
             [
              0.7777777777777778,
              "#fb9f3a"
             ],
             [
              0.8888888888888888,
              "#fdca26"
             ],
             [
              1,
              "#f0f921"
             ]
            ],
            "type": "histogram2d"
           }
          ],
          "histogram2dcontour": [
           {
            "colorbar": {
             "outlinewidth": 0,
             "ticks": ""
            },
            "colorscale": [
             [
              0,
              "#0d0887"
             ],
             [
              0.1111111111111111,
              "#46039f"
             ],
             [
              0.2222222222222222,
              "#7201a8"
             ],
             [
              0.3333333333333333,
              "#9c179e"
             ],
             [
              0.4444444444444444,
              "#bd3786"
             ],
             [
              0.5555555555555556,
              "#d8576b"
             ],
             [
              0.6666666666666666,
              "#ed7953"
             ],
             [
              0.7777777777777778,
              "#fb9f3a"
             ],
             [
              0.8888888888888888,
              "#fdca26"
             ],
             [
              1,
              "#f0f921"
             ]
            ],
            "type": "histogram2dcontour"
           }
          ],
          "mesh3d": [
           {
            "colorbar": {
             "outlinewidth": 0,
             "ticks": ""
            },
            "type": "mesh3d"
           }
          ],
          "parcoords": [
           {
            "line": {
             "colorbar": {
              "outlinewidth": 0,
              "ticks": ""
             }
            },
            "type": "parcoords"
           }
          ],
          "pie": [
           {
            "automargin": true,
            "type": "pie"
           }
          ],
          "scatter": [
           {
            "fillpattern": {
             "fillmode": "overlay",
             "size": 10,
             "solidity": 0.2
            },
            "type": "scatter"
           }
          ],
          "scatter3d": [
           {
            "line": {
             "colorbar": {
              "outlinewidth": 0,
              "ticks": ""
             }
            },
            "marker": {
             "colorbar": {
              "outlinewidth": 0,
              "ticks": ""
             }
            },
            "type": "scatter3d"
           }
          ],
          "scattercarpet": [
           {
            "marker": {
             "colorbar": {
              "outlinewidth": 0,
              "ticks": ""
             }
            },
            "type": "scattercarpet"
           }
          ],
          "scattergeo": [
           {
            "marker": {
             "colorbar": {
              "outlinewidth": 0,
              "ticks": ""
             }
            },
            "type": "scattergeo"
           }
          ],
          "scattergl": [
           {
            "marker": {
             "colorbar": {
              "outlinewidth": 0,
              "ticks": ""
             }
            },
            "type": "scattergl"
           }
          ],
          "scattermapbox": [
           {
            "marker": {
             "colorbar": {
              "outlinewidth": 0,
              "ticks": ""
             }
            },
            "type": "scattermapbox"
           }
          ],
          "scatterpolar": [
           {
            "marker": {
             "colorbar": {
              "outlinewidth": 0,
              "ticks": ""
             }
            },
            "type": "scatterpolar"
           }
          ],
          "scatterpolargl": [
           {
            "marker": {
             "colorbar": {
              "outlinewidth": 0,
              "ticks": ""
             }
            },
            "type": "scatterpolargl"
           }
          ],
          "scatterternary": [
           {
            "marker": {
             "colorbar": {
              "outlinewidth": 0,
              "ticks": ""
             }
            },
            "type": "scatterternary"
           }
          ],
          "surface": [
           {
            "colorbar": {
             "outlinewidth": 0,
             "ticks": ""
            },
            "colorscale": [
             [
              0,
              "#0d0887"
             ],
             [
              0.1111111111111111,
              "#46039f"
             ],
             [
              0.2222222222222222,
              "#7201a8"
             ],
             [
              0.3333333333333333,
              "#9c179e"
             ],
             [
              0.4444444444444444,
              "#bd3786"
             ],
             [
              0.5555555555555556,
              "#d8576b"
             ],
             [
              0.6666666666666666,
              "#ed7953"
             ],
             [
              0.7777777777777778,
              "#fb9f3a"
             ],
             [
              0.8888888888888888,
              "#fdca26"
             ],
             [
              1,
              "#f0f921"
             ]
            ],
            "type": "surface"
           }
          ],
          "table": [
           {
            "cells": {
             "fill": {
              "color": "#EBF0F8"
             },
             "line": {
              "color": "white"
             }
            },
            "header": {
             "fill": {
              "color": "#C8D4E3"
             },
             "line": {
              "color": "white"
             }
            },
            "type": "table"
           }
          ]
         },
         "layout": {
          "annotationdefaults": {
           "arrowcolor": "#2a3f5f",
           "arrowhead": 0,
           "arrowwidth": 1
          },
          "autotypenumbers": "strict",
          "coloraxis": {
           "colorbar": {
            "outlinewidth": 0,
            "ticks": ""
           }
          },
          "colorscale": {
           "diverging": [
            [
             0,
             "#8e0152"
            ],
            [
             0.1,
             "#c51b7d"
            ],
            [
             0.2,
             "#de77ae"
            ],
            [
             0.3,
             "#f1b6da"
            ],
            [
             0.4,
             "#fde0ef"
            ],
            [
             0.5,
             "#f7f7f7"
            ],
            [
             0.6,
             "#e6f5d0"
            ],
            [
             0.7,
             "#b8e186"
            ],
            [
             0.8,
             "#7fbc41"
            ],
            [
             0.9,
             "#4d9221"
            ],
            [
             1,
             "#276419"
            ]
           ],
           "sequential": [
            [
             0,
             "#0d0887"
            ],
            [
             0.1111111111111111,
             "#46039f"
            ],
            [
             0.2222222222222222,
             "#7201a8"
            ],
            [
             0.3333333333333333,
             "#9c179e"
            ],
            [
             0.4444444444444444,
             "#bd3786"
            ],
            [
             0.5555555555555556,
             "#d8576b"
            ],
            [
             0.6666666666666666,
             "#ed7953"
            ],
            [
             0.7777777777777778,
             "#fb9f3a"
            ],
            [
             0.8888888888888888,
             "#fdca26"
            ],
            [
             1,
             "#f0f921"
            ]
           ],
           "sequentialminus": [
            [
             0,
             "#0d0887"
            ],
            [
             0.1111111111111111,
             "#46039f"
            ],
            [
             0.2222222222222222,
             "#7201a8"
            ],
            [
             0.3333333333333333,
             "#9c179e"
            ],
            [
             0.4444444444444444,
             "#bd3786"
            ],
            [
             0.5555555555555556,
             "#d8576b"
            ],
            [
             0.6666666666666666,
             "#ed7953"
            ],
            [
             0.7777777777777778,
             "#fb9f3a"
            ],
            [
             0.8888888888888888,
             "#fdca26"
            ],
            [
             1,
             "#f0f921"
            ]
           ]
          },
          "colorway": [
           "#636efa",
           "#EF553B",
           "#00cc96",
           "#ab63fa",
           "#FFA15A",
           "#19d3f3",
           "#FF6692",
           "#B6E880",
           "#FF97FF",
           "#FECB52"
          ],
          "font": {
           "color": "#2a3f5f"
          },
          "geo": {
           "bgcolor": "white",
           "lakecolor": "white",
           "landcolor": "white",
           "showlakes": true,
           "showland": true,
           "subunitcolor": "#C8D4E3"
          },
          "hoverlabel": {
           "align": "left"
          },
          "hovermode": "closest",
          "mapbox": {
           "style": "light"
          },
          "paper_bgcolor": "white",
          "plot_bgcolor": "white",
          "polar": {
           "angularaxis": {
            "gridcolor": "#EBF0F8",
            "linecolor": "#EBF0F8",
            "ticks": ""
           },
           "bgcolor": "white",
           "radialaxis": {
            "gridcolor": "#EBF0F8",
            "linecolor": "#EBF0F8",
            "ticks": ""
           }
          },
          "scene": {
           "xaxis": {
            "backgroundcolor": "white",
            "gridcolor": "#DFE8F3",
            "gridwidth": 2,
            "linecolor": "#EBF0F8",
            "showbackground": true,
            "ticks": "",
            "zerolinecolor": "#EBF0F8"
           },
           "yaxis": {
            "backgroundcolor": "white",
            "gridcolor": "#DFE8F3",
            "gridwidth": 2,
            "linecolor": "#EBF0F8",
            "showbackground": true,
            "ticks": "",
            "zerolinecolor": "#EBF0F8"
           },
           "zaxis": {
            "backgroundcolor": "white",
            "gridcolor": "#DFE8F3",
            "gridwidth": 2,
            "linecolor": "#EBF0F8",
            "showbackground": true,
            "ticks": "",
            "zerolinecolor": "#EBF0F8"
           }
          },
          "shapedefaults": {
           "line": {
            "color": "#2a3f5f"
           }
          },
          "ternary": {
           "aaxis": {
            "gridcolor": "#DFE8F3",
            "linecolor": "#A2B1C6",
            "ticks": ""
           },
           "baxis": {
            "gridcolor": "#DFE8F3",
            "linecolor": "#A2B1C6",
            "ticks": ""
           },
           "bgcolor": "white",
           "caxis": {
            "gridcolor": "#DFE8F3",
            "linecolor": "#A2B1C6",
            "ticks": ""
           }
          },
          "title": {
           "x": 0.05
          },
          "xaxis": {
           "automargin": true,
           "gridcolor": "#EBF0F8",
           "linecolor": "#EBF0F8",
           "ticks": "",
           "title": {
            "standoff": 15
           },
           "zerolinecolor": "#EBF0F8",
           "zerolinewidth": 2
          },
          "yaxis": {
           "automargin": true,
           "gridcolor": "#EBF0F8",
           "linecolor": "#EBF0F8",
           "ticks": "",
           "title": {
            "standoff": 15
           },
           "zerolinecolor": "#EBF0F8",
           "zerolinewidth": 2
          }
         }
        },
        "title": {
         "font": {
          "family": "Arial Black",
          "size": 20
         },
         "text": "<b>Missing Value Pattern Distribution</b><br><sub>Interactive breakdown of bed, bath, house_size combinations</sub>",
         "x": 0.5,
         "xanchor": "center"
        },
        "width": 900
       }
      }
     },
     "metadata": {},
     "output_type": "display_data"
    }
   ],
   "source": [
    "# Overlap pie chart\n",
    "bed_missing = df['bed'].isnull()\n",
    "bath_missing = df['bath'].isnull()\n",
    "house_size_missing = df['house_size'].isnull()\n",
    "\n",
    "combinatinos = {\n",
    "    'None missing': (~bed_missing & ~bath_missing & ~house_size_missing).sum(),\n",
    "    'Only bed missing': (bed_missing & ~bath_missing & ~house_size_missing).sum(),\n",
    "    'Only bath missing': (~bed_missing & bath_missing & ~house_size_missing).sum(),\n",
    "    'Only house_size missing': (~bed_missing & ~bath_missing & house_size_missing).sum(),\n",
    "    'Bed and bath missing': (bed_missing & bath_missing & ~house_size_missing).sum(),\n",
    "    'Bed and house_size missing': (bed_missing & ~bath_missing & house_size_missing).sum(),\n",
    "    'Bath and house_size missing': (~bed_missing & bath_missing & house_size_missing).sum(),\n",
    "    'All missing': (bed_missing & bath_missing & house_size_missing).sum()\n",
    "}   \n",
    "\n",
    "colors_detailed = ['#2ecc71', '#f39c12', '#e67e22', '#3498db', \n",
    "                   '#e74c3c', '#c0392b', '#e74c3c', '#8e44ad']\n",
    "\n",
    "fig1 = go.Figure(data=[go.Pie( # pie chart\n",
    "    labels=list(combinatinos.keys()), # labels\n",
    "    values=list(combinatinos.values()), # values\n",
    "    marker=dict(colors=colors_detailed), # colors\n",
    "    textinfo='label+percent', # show label and percent\n",
    "    textposition='auto', # auto position text\n",
    "    hole= 0.4, # donut chart\n",
    "    pull = [0, 0, 0, 0, 0.05, 0.05, 0.05, 0.15] # pull out slices with missing values\n",
    ")])\n",
    "fig1.update_layout( # layout\n",
    "    title={\n",
    "        'text': '<b>Missing Value Pattern Distribution</b><br>' +\n",
    "                '<sub>Interactive breakdown of bed, bath, house_size combinations</sub>',\n",
    "        'x': 0.5,\n",
    "        'xanchor': 'center',\n",
    "        'font': {'size': 20, 'family': 'Arial Black'}\n",
    "    },\n",
    "    showlegend=True, # show legend\n",
    "    legend=dict( # position legend outside the pie chart\n",
    "        orientation=\"v\",\n",
    "        yanchor=\"middle\",\n",
    "        y=0.5,\n",
    "        xanchor=\"left\",\n",
    "        x=1.05,\n",
    "        font=dict(size=12)\n",
    "    ),\n",
    "    annotations=[dict( # center text\n",
    "        text=f'Total: {len(df):,}<br>rows',\n",
    "        x=0.5, y=0.5,\n",
    "        font=dict(size=16, family='Arial Black'),\n",
    "        showarrow=False\n",
    "    )],\n",
    "    width=900,\n",
    "    height=600,\n",
    "    template='plotly_white' # clean white background\n",
    ")\n",
    "fig1.show()\n",
    "                    "
   ]
  },
  {
   "cell_type": "code",
   "execution_count": 16,
   "id": "2164b542",
   "metadata": {},
   "outputs": [
    {
     "data": {
      "application/vnd.plotly.v1+json": {
       "config": {
        "plotlyServerURL": "https://plot.ly"
       },
       "data": [
        {
         "colorbar": {
          "title": {
           "text": "Correlation"
          }
         },
         "colorscale": [
          [
           0,
           "rgb(0,104,55)"
          ],
          [
           0.1,
           "rgb(26,152,80)"
          ],
          [
           0.2,
           "rgb(102,189,99)"
          ],
          [
           0.3,
           "rgb(166,217,106)"
          ],
          [
           0.4,
           "rgb(217,239,139)"
          ],
          [
           0.5,
           "rgb(255,255,191)"
          ],
          [
           0.6,
           "rgb(254,224,139)"
          ],
          [
           0.7,
           "rgb(253,174,97)"
          ],
          [
           0.8,
           "rgb(244,109,67)"
          ],
          [
           0.9,
           "rgb(215,48,39)"
          ],
          [
           1,
           "rgb(165,0,38)"
          ]
         ],
         "hovertemplate": "<b>%{y} vs %{x}</b><br>Correlation: %{z:.3f}<br><extra></extra>",
         "text": [
          [
           1,
           0.9369559152068279,
           0.8459405750640848,
           -0.15554986450051808,
           0.38720498358309496
          ],
          [
           0.9369559152068279,
           1,
           0.8243357076303737,
           -0.08365201208965951,
           0.4102968048269094
          ],
          [
           0.8459405750640848,
           0.8243357076303737,
           1,
           -0.09743551381140644,
           0.34608915316291977
          ],
          [
           -0.15554986450051808,
           -0.08365201208965951,
           -0.09743551381140644,
           1,
           0.06417317099430976
          ],
          [
           0.38720498358309496,
           0.4102968048269094,
           0.34608915316291977,
           0.06417317099430976,
           1
          ]
         ],
         "textfont": {
          "family": "Arial Black",
          "size": 14
         },
         "texttemplate": "%{text:.2f}",
         "type": "heatmap",
         "x": [
          "bed",
          "bath",
          "house_size",
          "acre_lot",
          "prev_sold_date"
         ],
         "y": [
          "bed",
          "bath",
          "house_size",
          "acre_lot",
          "prev_sold_date"
         ],
         "z": [
          [
           1,
           0.9369559152068279,
           0.8459405750640848,
           -0.15554986450051808,
           0.38720498358309496
          ],
          [
           0.9369559152068279,
           1,
           0.8243357076303737,
           -0.08365201208965951,
           0.4102968048269094
          ],
          [
           0.8459405750640848,
           0.8243357076303737,
           1,
           -0.09743551381140644,
           0.34608915316291977
          ],
          [
           -0.15554986450051808,
           -0.08365201208965951,
           -0.09743551381140644,
           1,
           0.06417317099430976
          ],
          [
           0.38720498358309496,
           0.4102968048269094,
           0.34608915316291977,
           0.06417317099430976,
           1
          ]
         ],
         "zmid": 0.5
        }
       ],
       "layout": {
        "height": 700,
        "template": {
         "data": {
          "bar": [
           {
            "error_x": {
             "color": "#2a3f5f"
            },
            "error_y": {
             "color": "#2a3f5f"
            },
            "marker": {
             "line": {
              "color": "white",
              "width": 0.5
             },
             "pattern": {
              "fillmode": "overlay",
              "size": 10,
              "solidity": 0.2
             }
            },
            "type": "bar"
           }
          ],
          "barpolar": [
           {
            "marker": {
             "line": {
              "color": "white",
              "width": 0.5
             },
             "pattern": {
              "fillmode": "overlay",
              "size": 10,
              "solidity": 0.2
             }
            },
            "type": "barpolar"
           }
          ],
          "carpet": [
           {
            "aaxis": {
             "endlinecolor": "#2a3f5f",
             "gridcolor": "#C8D4E3",
             "linecolor": "#C8D4E3",
             "minorgridcolor": "#C8D4E3",
             "startlinecolor": "#2a3f5f"
            },
            "baxis": {
             "endlinecolor": "#2a3f5f",
             "gridcolor": "#C8D4E3",
             "linecolor": "#C8D4E3",
             "minorgridcolor": "#C8D4E3",
             "startlinecolor": "#2a3f5f"
            },
            "type": "carpet"
           }
          ],
          "choropleth": [
           {
            "colorbar": {
             "outlinewidth": 0,
             "ticks": ""
            },
            "type": "choropleth"
           }
          ],
          "contour": [
           {
            "colorbar": {
             "outlinewidth": 0,
             "ticks": ""
            },
            "colorscale": [
             [
              0,
              "#0d0887"
             ],
             [
              0.1111111111111111,
              "#46039f"
             ],
             [
              0.2222222222222222,
              "#7201a8"
             ],
             [
              0.3333333333333333,
              "#9c179e"
             ],
             [
              0.4444444444444444,
              "#bd3786"
             ],
             [
              0.5555555555555556,
              "#d8576b"
             ],
             [
              0.6666666666666666,
              "#ed7953"
             ],
             [
              0.7777777777777778,
              "#fb9f3a"
             ],
             [
              0.8888888888888888,
              "#fdca26"
             ],
             [
              1,
              "#f0f921"
             ]
            ],
            "type": "contour"
           }
          ],
          "contourcarpet": [
           {
            "colorbar": {
             "outlinewidth": 0,
             "ticks": ""
            },
            "type": "contourcarpet"
           }
          ],
          "heatmap": [
           {
            "colorbar": {
             "outlinewidth": 0,
             "ticks": ""
            },
            "colorscale": [
             [
              0,
              "#0d0887"
             ],
             [
              0.1111111111111111,
              "#46039f"
             ],
             [
              0.2222222222222222,
              "#7201a8"
             ],
             [
              0.3333333333333333,
              "#9c179e"
             ],
             [
              0.4444444444444444,
              "#bd3786"
             ],
             [
              0.5555555555555556,
              "#d8576b"
             ],
             [
              0.6666666666666666,
              "#ed7953"
             ],
             [
              0.7777777777777778,
              "#fb9f3a"
             ],
             [
              0.8888888888888888,
              "#fdca26"
             ],
             [
              1,
              "#f0f921"
             ]
            ],
            "type": "heatmap"
           }
          ],
          "heatmapgl": [
           {
            "colorbar": {
             "outlinewidth": 0,
             "ticks": ""
            },
            "colorscale": [
             [
              0,
              "#0d0887"
             ],
             [
              0.1111111111111111,
              "#46039f"
             ],
             [
              0.2222222222222222,
              "#7201a8"
             ],
             [
              0.3333333333333333,
              "#9c179e"
             ],
             [
              0.4444444444444444,
              "#bd3786"
             ],
             [
              0.5555555555555556,
              "#d8576b"
             ],
             [
              0.6666666666666666,
              "#ed7953"
             ],
             [
              0.7777777777777778,
              "#fb9f3a"
             ],
             [
              0.8888888888888888,
              "#fdca26"
             ],
             [
              1,
              "#f0f921"
             ]
            ],
            "type": "heatmapgl"
           }
          ],
          "histogram": [
           {
            "marker": {
             "pattern": {
              "fillmode": "overlay",
              "size": 10,
              "solidity": 0.2
             }
            },
            "type": "histogram"
           }
          ],
          "histogram2d": [
           {
            "colorbar": {
             "outlinewidth": 0,
             "ticks": ""
            },
            "colorscale": [
             [
              0,
              "#0d0887"
             ],
             [
              0.1111111111111111,
              "#46039f"
             ],
             [
              0.2222222222222222,
              "#7201a8"
             ],
             [
              0.3333333333333333,
              "#9c179e"
             ],
             [
              0.4444444444444444,
              "#bd3786"
             ],
             [
              0.5555555555555556,
              "#d8576b"
             ],
             [
              0.6666666666666666,
              "#ed7953"
             ],
             [
              0.7777777777777778,
              "#fb9f3a"
             ],
             [
              0.8888888888888888,
              "#fdca26"
             ],
             [
              1,
              "#f0f921"
             ]
            ],
            "type": "histogram2d"
           }
          ],
          "histogram2dcontour": [
           {
            "colorbar": {
             "outlinewidth": 0,
             "ticks": ""
            },
            "colorscale": [
             [
              0,
              "#0d0887"
             ],
             [
              0.1111111111111111,
              "#46039f"
             ],
             [
              0.2222222222222222,
              "#7201a8"
             ],
             [
              0.3333333333333333,
              "#9c179e"
             ],
             [
              0.4444444444444444,
              "#bd3786"
             ],
             [
              0.5555555555555556,
              "#d8576b"
             ],
             [
              0.6666666666666666,
              "#ed7953"
             ],
             [
              0.7777777777777778,
              "#fb9f3a"
             ],
             [
              0.8888888888888888,
              "#fdca26"
             ],
             [
              1,
              "#f0f921"
             ]
            ],
            "type": "histogram2dcontour"
           }
          ],
          "mesh3d": [
           {
            "colorbar": {
             "outlinewidth": 0,
             "ticks": ""
            },
            "type": "mesh3d"
           }
          ],
          "parcoords": [
           {
            "line": {
             "colorbar": {
              "outlinewidth": 0,
              "ticks": ""
             }
            },
            "type": "parcoords"
           }
          ],
          "pie": [
           {
            "automargin": true,
            "type": "pie"
           }
          ],
          "scatter": [
           {
            "fillpattern": {
             "fillmode": "overlay",
             "size": 10,
             "solidity": 0.2
            },
            "type": "scatter"
           }
          ],
          "scatter3d": [
           {
            "line": {
             "colorbar": {
              "outlinewidth": 0,
              "ticks": ""
             }
            },
            "marker": {
             "colorbar": {
              "outlinewidth": 0,
              "ticks": ""
             }
            },
            "type": "scatter3d"
           }
          ],
          "scattercarpet": [
           {
            "marker": {
             "colorbar": {
              "outlinewidth": 0,
              "ticks": ""
             }
            },
            "type": "scattercarpet"
           }
          ],
          "scattergeo": [
           {
            "marker": {
             "colorbar": {
              "outlinewidth": 0,
              "ticks": ""
             }
            },
            "type": "scattergeo"
           }
          ],
          "scattergl": [
           {
            "marker": {
             "colorbar": {
              "outlinewidth": 0,
              "ticks": ""
             }
            },
            "type": "scattergl"
           }
          ],
          "scattermapbox": [
           {
            "marker": {
             "colorbar": {
              "outlinewidth": 0,
              "ticks": ""
             }
            },
            "type": "scattermapbox"
           }
          ],
          "scatterpolar": [
           {
            "marker": {
             "colorbar": {
              "outlinewidth": 0,
              "ticks": ""
             }
            },
            "type": "scatterpolar"
           }
          ],
          "scatterpolargl": [
           {
            "marker": {
             "colorbar": {
              "outlinewidth": 0,
              "ticks": ""
             }
            },
            "type": "scatterpolargl"
           }
          ],
          "scatterternary": [
           {
            "marker": {
             "colorbar": {
              "outlinewidth": 0,
              "ticks": ""
             }
            },
            "type": "scatterternary"
           }
          ],
          "surface": [
           {
            "colorbar": {
             "outlinewidth": 0,
             "ticks": ""
            },
            "colorscale": [
             [
              0,
              "#0d0887"
             ],
             [
              0.1111111111111111,
              "#46039f"
             ],
             [
              0.2222222222222222,
              "#7201a8"
             ],
             [
              0.3333333333333333,
              "#9c179e"
             ],
             [
              0.4444444444444444,
              "#bd3786"
             ],
             [
              0.5555555555555556,
              "#d8576b"
             ],
             [
              0.6666666666666666,
              "#ed7953"
             ],
             [
              0.7777777777777778,
              "#fb9f3a"
             ],
             [
              0.8888888888888888,
              "#fdca26"
             ],
             [
              1,
              "#f0f921"
             ]
            ],
            "type": "surface"
           }
          ],
          "table": [
           {
            "cells": {
             "fill": {
              "color": "#EBF0F8"
             },
             "line": {
              "color": "white"
             }
            },
            "header": {
             "fill": {
              "color": "#C8D4E3"
             },
             "line": {
              "color": "white"
             }
            },
            "type": "table"
           }
          ]
         },
         "layout": {
          "annotationdefaults": {
           "arrowcolor": "#2a3f5f",
           "arrowhead": 0,
           "arrowwidth": 1
          },
          "autotypenumbers": "strict",
          "coloraxis": {
           "colorbar": {
            "outlinewidth": 0,
            "ticks": ""
           }
          },
          "colorscale": {
           "diverging": [
            [
             0,
             "#8e0152"
            ],
            [
             0.1,
             "#c51b7d"
            ],
            [
             0.2,
             "#de77ae"
            ],
            [
             0.3,
             "#f1b6da"
            ],
            [
             0.4,
             "#fde0ef"
            ],
            [
             0.5,
             "#f7f7f7"
            ],
            [
             0.6,
             "#e6f5d0"
            ],
            [
             0.7,
             "#b8e186"
            ],
            [
             0.8,
             "#7fbc41"
            ],
            [
             0.9,
             "#4d9221"
            ],
            [
             1,
             "#276419"
            ]
           ],
           "sequential": [
            [
             0,
             "#0d0887"
            ],
            [
             0.1111111111111111,
             "#46039f"
            ],
            [
             0.2222222222222222,
             "#7201a8"
            ],
            [
             0.3333333333333333,
             "#9c179e"
            ],
            [
             0.4444444444444444,
             "#bd3786"
            ],
            [
             0.5555555555555556,
             "#d8576b"
            ],
            [
             0.6666666666666666,
             "#ed7953"
            ],
            [
             0.7777777777777778,
             "#fb9f3a"
            ],
            [
             0.8888888888888888,
             "#fdca26"
            ],
            [
             1,
             "#f0f921"
            ]
           ],
           "sequentialminus": [
            [
             0,
             "#0d0887"
            ],
            [
             0.1111111111111111,
             "#46039f"
            ],
            [
             0.2222222222222222,
             "#7201a8"
            ],
            [
             0.3333333333333333,
             "#9c179e"
            ],
            [
             0.4444444444444444,
             "#bd3786"
            ],
            [
             0.5555555555555556,
             "#d8576b"
            ],
            [
             0.6666666666666666,
             "#ed7953"
            ],
            [
             0.7777777777777778,
             "#fb9f3a"
            ],
            [
             0.8888888888888888,
             "#fdca26"
            ],
            [
             1,
             "#f0f921"
            ]
           ]
          },
          "colorway": [
           "#636efa",
           "#EF553B",
           "#00cc96",
           "#ab63fa",
           "#FFA15A",
           "#19d3f3",
           "#FF6692",
           "#B6E880",
           "#FF97FF",
           "#FECB52"
          ],
          "font": {
           "color": "#2a3f5f"
          },
          "geo": {
           "bgcolor": "white",
           "lakecolor": "white",
           "landcolor": "white",
           "showlakes": true,
           "showland": true,
           "subunitcolor": "#C8D4E3"
          },
          "hoverlabel": {
           "align": "left"
          },
          "hovermode": "closest",
          "mapbox": {
           "style": "light"
          },
          "paper_bgcolor": "white",
          "plot_bgcolor": "white",
          "polar": {
           "angularaxis": {
            "gridcolor": "#EBF0F8",
            "linecolor": "#EBF0F8",
            "ticks": ""
           },
           "bgcolor": "white",
           "radialaxis": {
            "gridcolor": "#EBF0F8",
            "linecolor": "#EBF0F8",
            "ticks": ""
           }
          },
          "scene": {
           "xaxis": {
            "backgroundcolor": "white",
            "gridcolor": "#DFE8F3",
            "gridwidth": 2,
            "linecolor": "#EBF0F8",
            "showbackground": true,
            "ticks": "",
            "zerolinecolor": "#EBF0F8"
           },
           "yaxis": {
            "backgroundcolor": "white",
            "gridcolor": "#DFE8F3",
            "gridwidth": 2,
            "linecolor": "#EBF0F8",
            "showbackground": true,
            "ticks": "",
            "zerolinecolor": "#EBF0F8"
           },
           "zaxis": {
            "backgroundcolor": "white",
            "gridcolor": "#DFE8F3",
            "gridwidth": 2,
            "linecolor": "#EBF0F8",
            "showbackground": true,
            "ticks": "",
            "zerolinecolor": "#EBF0F8"
           }
          },
          "shapedefaults": {
           "line": {
            "color": "#2a3f5f"
           }
          },
          "ternary": {
           "aaxis": {
            "gridcolor": "#DFE8F3",
            "linecolor": "#A2B1C6",
            "ticks": ""
           },
           "baxis": {
            "gridcolor": "#DFE8F3",
            "linecolor": "#A2B1C6",
            "ticks": ""
           },
           "bgcolor": "white",
           "caxis": {
            "gridcolor": "#DFE8F3",
            "linecolor": "#A2B1C6",
            "ticks": ""
           }
          },
          "title": {
           "x": 0.05
          },
          "xaxis": {
           "automargin": true,
           "gridcolor": "#EBF0F8",
           "linecolor": "#EBF0F8",
           "ticks": "",
           "title": {
            "standoff": 15
           },
           "zerolinecolor": "#EBF0F8",
           "zerolinewidth": 2
          },
          "yaxis": {
           "automargin": true,
           "gridcolor": "#EBF0F8",
           "linecolor": "#EBF0F8",
           "ticks": "",
           "title": {
            "standoff": 15
           },
           "zerolinecolor": "#EBF0F8",
           "zerolinewidth": 2
          }
         }
        },
        "title": {
         "font": {
          "family": "Arial Black",
          "size": 20
         },
         "text": "<b>Missing Value Correlation Matrix</b><br><sub>Higher values = features tend to be missing together</sub>",
         "x": 0.5,
         "xanchor": "center"
        },
        "width": 800,
        "xaxis": {
         "title": {
          "text": "Features"
         }
        },
        "yaxis": {
         "title": {
          "text": "Features"
         }
        }
       }
      }
     },
     "metadata": {},
     "output_type": "display_data"
    }
   ],
   "source": [
    "# Correlation matrix of missing values\n",
    "critical_cols = ['bed', 'bath', 'house_size', 'acre_lot', 'prev_sold_date'] # columns with significant missing values\n",
    "missing_indicators = df[critical_cols].isnull().astype(int) # create binary indicators\n",
    "corr_matrix = missing_indicators.corr() # correlation matrix\n",
    "\n",
    "fig5 = go.Figure(data=go.Heatmap(\n",
    "    z=corr_matrix.values,\n",
    "    x=corr_matrix.columns,\n",
    "    y=corr_matrix.index,\n",
    "    colorscale='RdYlGn_r',\n",
    "    zmid=0.5,\n",
    "    text=corr_matrix.values,\n",
    "    texttemplate='%{text:.2f}',\n",
    "    textfont={\"size\": 14, \"family\": \"Arial Black\"},\n",
    "    colorbar=dict(title=\"Correlation\"),\n",
    "    hovertemplate='<b>%{y} vs %{x}</b><br>' +\n",
    "                  'Correlation: %{z:.3f}<br>' +\n",
    "                  '<extra></extra>'\n",
    "))\n",
    "\n",
    "fig5.update_layout(\n",
    "    title={\n",
    "        'text': '<b>Missing Value Correlation Matrix</b><br>' +\n",
    "                '<sub>Higher values = features tend to be missing together</sub>',\n",
    "        'x': 0.5,\n",
    "        'xanchor': 'center',\n",
    "        'font': {'size': 20, 'family': 'Arial Black'}\n",
    "    },\n",
    "    xaxis_title='Features',\n",
    "    yaxis_title='Features',\n",
    "    width=800,\n",
    "    height=700,\n",
    "    template='plotly_white'\n",
    ")\n",
    "\n",
    "fig5.show()\n"
   ]
  },
  {
   "cell_type": "markdown",
   "id": "0354b045",
   "metadata": {},
   "source": [
    "AFTER DROPPING CORRELATION MAP TO DO"
   ]
  },
  {
   "cell_type": "code",
   "execution_count": 17,
   "id": "ff72f53a",
   "metadata": {},
   "outputs": [
    {
     "data": {
      "text/html": [
       "<div>\n",
       "<style scoped>\n",
       "    .dataframe tbody tr th:only-of-type {\n",
       "        vertical-align: middle;\n",
       "    }\n",
       "\n",
       "    .dataframe tbody tr th {\n",
       "        vertical-align: top;\n",
       "    }\n",
       "\n",
       "    .dataframe thead th {\n",
       "        text-align: right;\n",
       "    }\n",
       "</style>\n",
       "<table border=\"1\" class=\"dataframe\">\n",
       "  <thead>\n",
       "    <tr style=\"text-align: right;\">\n",
       "      <th></th>\n",
       "      <th>Missing Values</th>\n",
       "      <th>Percentage</th>\n",
       "    </tr>\n",
       "  </thead>\n",
       "  <tbody>\n",
       "    <tr>\n",
       "      <th>house_size</th>\n",
       "      <td>453047</td>\n",
       "      <td>100.00</td>\n",
       "    </tr>\n",
       "    <tr>\n",
       "      <th>bath</th>\n",
       "      <td>372416</td>\n",
       "      <td>82.20</td>\n",
       "    </tr>\n",
       "    <tr>\n",
       "      <th>bed</th>\n",
       "      <td>367391</td>\n",
       "      <td>81.09</td>\n",
       "    </tr>\n",
       "    <tr>\n",
       "      <th>prev_sold_date</th>\n",
       "      <td>275178</td>\n",
       "      <td>60.74</td>\n",
       "    </tr>\n",
       "    <tr>\n",
       "      <th>acre_lot</th>\n",
       "      <td>39533</td>\n",
       "      <td>8.73</td>\n",
       "    </tr>\n",
       "    <tr>\n",
       "      <th>status</th>\n",
       "      <td>0</td>\n",
       "      <td>0.00</td>\n",
       "    </tr>\n",
       "    <tr>\n",
       "      <th>city</th>\n",
       "      <td>0</td>\n",
       "      <td>0.00</td>\n",
       "    </tr>\n",
       "    <tr>\n",
       "      <th>state</th>\n",
       "      <td>0</td>\n",
       "      <td>0.00</td>\n",
       "    </tr>\n",
       "    <tr>\n",
       "      <th>zip_code</th>\n",
       "      <td>0</td>\n",
       "      <td>0.00</td>\n",
       "    </tr>\n",
       "    <tr>\n",
       "      <th>price</th>\n",
       "      <td>0</td>\n",
       "      <td>0.00</td>\n",
       "    </tr>\n",
       "    <tr>\n",
       "      <th>has_prev_sale</th>\n",
       "      <td>0</td>\n",
       "      <td>0.00</td>\n",
       "    </tr>\n",
       "  </tbody>\n",
       "</table>\n",
       "</div>"
      ],
      "text/plain": [
       "                Missing Values  Percentage\n",
       "house_size              453047      100.00\n",
       "bath                    372416       82.20\n",
       "bed                     367391       81.09\n",
       "prev_sold_date          275178       60.74\n",
       "acre_lot                 39533        8.73\n",
       "status                       0        0.00\n",
       "city                         0        0.00\n",
       "state                        0        0.00\n",
       "zip_code                     0        0.00\n",
       "price                        0        0.00\n",
       "has_prev_sale                0        0.00"
      ]
     },
     "execution_count": 17,
     "metadata": {},
     "output_type": "execute_result"
    }
   ],
   "source": [
    "# missingness might be related to status, these properties are land, since they are not constructions we can drop them\n",
    "for_sale = df['status'].isin(['for_sale', 'sold'])\n",
    "# select rows where house_size and bed and bath are missing and status is 'for_sale' or 'sold'\n",
    "land = df[for_sale & df['house_size'].isnull() & df['bed'].isnull() & df['bath'].isnull()]\n",
    "for_sale_missing = df[for_sale & df['house_size'].isnull()]\n",
    "\n",
    "#bed_missing & bath_missing & house_size_missing drop these rows\n",
    "# df_imputed = df.drop(for_sale_missing.index)\n",
    "# df_imputed.shape\n",
    "for_sale_missing.head()\n",
    "missing_report(for_sale_missing)"
   ]
  },
  {
   "cell_type": "code",
   "execution_count": 18,
   "id": "b7bcd47b",
   "metadata": {},
   "outputs": [
    {
     "data": {
      "text/html": [
       "<div>\n",
       "<style scoped>\n",
       "    .dataframe tbody tr th:only-of-type {\n",
       "        vertical-align: middle;\n",
       "    }\n",
       "\n",
       "    .dataframe tbody tr th {\n",
       "        vertical-align: top;\n",
       "    }\n",
       "\n",
       "    .dataframe thead th {\n",
       "        text-align: right;\n",
       "    }\n",
       "</style>\n",
       "<table border=\"1\" class=\"dataframe\">\n",
       "  <thead>\n",
       "    <tr style=\"text-align: right;\">\n",
       "      <th></th>\n",
       "      <th>Missing Values</th>\n",
       "      <th>Percentage</th>\n",
       "    </tr>\n",
       "  </thead>\n",
       "  <tbody>\n",
       "    <tr>\n",
       "      <th>prev_sold_date</th>\n",
       "      <td>585537</td>\n",
       "      <td>32.92</td>\n",
       "    </tr>\n",
       "    <tr>\n",
       "      <th>house_size</th>\n",
       "      <td>453056</td>\n",
       "      <td>25.47</td>\n",
       "    </tr>\n",
       "    <tr>\n",
       "      <th>bath</th>\n",
       "      <td>407815</td>\n",
       "      <td>22.93</td>\n",
       "    </tr>\n",
       "    <tr>\n",
       "      <th>bed</th>\n",
       "      <td>383703</td>\n",
       "      <td>21.57</td>\n",
       "    </tr>\n",
       "    <tr>\n",
       "      <th>acre_lot</th>\n",
       "      <td>259948</td>\n",
       "      <td>14.62</td>\n",
       "    </tr>\n",
       "    <tr>\n",
       "      <th>status</th>\n",
       "      <td>0</td>\n",
       "      <td>0.00</td>\n",
       "    </tr>\n",
       "    <tr>\n",
       "      <th>city</th>\n",
       "      <td>0</td>\n",
       "      <td>0.00</td>\n",
       "    </tr>\n",
       "    <tr>\n",
       "      <th>state</th>\n",
       "      <td>0</td>\n",
       "      <td>0.00</td>\n",
       "    </tr>\n",
       "    <tr>\n",
       "      <th>zip_code</th>\n",
       "      <td>0</td>\n",
       "      <td>0.00</td>\n",
       "    </tr>\n",
       "    <tr>\n",
       "      <th>price</th>\n",
       "      <td>0</td>\n",
       "      <td>0.00</td>\n",
       "    </tr>\n",
       "    <tr>\n",
       "      <th>has_prev_sale</th>\n",
       "      <td>0</td>\n",
       "      <td>0.00</td>\n",
       "    </tr>\n",
       "  </tbody>\n",
       "</table>\n",
       "</div>"
      ],
      "text/plain": [
       "                Missing Values  Percentage\n",
       "prev_sold_date          585537       32.92\n",
       "house_size              453056       25.47\n",
       "bath                    407815       22.93\n",
       "bed                     383703       21.57\n",
       "acre_lot                259948       14.62\n",
       "status                       0        0.00\n",
       "city                         0        0.00\n",
       "state                        0        0.00\n",
       "zip_code                     0        0.00\n",
       "price                        0        0.00\n",
       "has_prev_sale                0        0.00"
      ]
     },
     "execution_count": 18,
     "metadata": {},
     "output_type": "execute_result"
    }
   ],
   "source": [
    "# drop rows where house_size, bed, and bath are missing and status is 'for_sale' or 'sold'\n",
    "# these properties are likely land-only listings, and i am predicting house not land\n",
    "missing_report(df)"
   ]
  },
  {
   "cell_type": "code",
   "execution_count": 19,
   "id": "c5bcfa2d",
   "metadata": {},
   "outputs": [
    {
     "data": {
      "text/html": [
       "<div>\n",
       "<style scoped>\n",
       "    .dataframe tbody tr th:only-of-type {\n",
       "        vertical-align: middle;\n",
       "    }\n",
       "\n",
       "    .dataframe tbody tr th {\n",
       "        vertical-align: top;\n",
       "    }\n",
       "\n",
       "    .dataframe thead th {\n",
       "        text-align: right;\n",
       "    }\n",
       "</style>\n",
       "<table border=\"1\" class=\"dataframe\">\n",
       "  <thead>\n",
       "    <tr style=\"text-align: right;\">\n",
       "      <th></th>\n",
       "      <th>Missing Values</th>\n",
       "      <th>Percentage</th>\n",
       "    </tr>\n",
       "  </thead>\n",
       "  <tbody>\n",
       "    <tr>\n",
       "      <th>prev_sold_date</th>\n",
       "      <td>331835</td>\n",
       "      <td>23.49</td>\n",
       "    </tr>\n",
       "    <tr>\n",
       "      <th>acre_lot</th>\n",
       "      <td>249872</td>\n",
       "      <td>17.69</td>\n",
       "    </tr>\n",
       "    <tr>\n",
       "      <th>house_size</th>\n",
       "      <td>87325</td>\n",
       "      <td>6.18</td>\n",
       "    </tr>\n",
       "    <tr>\n",
       "      <th>bath</th>\n",
       "      <td>42084</td>\n",
       "      <td>2.98</td>\n",
       "    </tr>\n",
       "    <tr>\n",
       "      <th>bed</th>\n",
       "      <td>17972</td>\n",
       "      <td>1.27</td>\n",
       "    </tr>\n",
       "    <tr>\n",
       "      <th>status</th>\n",
       "      <td>0</td>\n",
       "      <td>0.00</td>\n",
       "    </tr>\n",
       "    <tr>\n",
       "      <th>city</th>\n",
       "      <td>0</td>\n",
       "      <td>0.00</td>\n",
       "    </tr>\n",
       "    <tr>\n",
       "      <th>state</th>\n",
       "      <td>0</td>\n",
       "      <td>0.00</td>\n",
       "    </tr>\n",
       "    <tr>\n",
       "      <th>zip_code</th>\n",
       "      <td>0</td>\n",
       "      <td>0.00</td>\n",
       "    </tr>\n",
       "    <tr>\n",
       "      <th>price</th>\n",
       "      <td>0</td>\n",
       "      <td>0.00</td>\n",
       "    </tr>\n",
       "    <tr>\n",
       "      <th>has_prev_sale</th>\n",
       "      <td>0</td>\n",
       "      <td>0.00</td>\n",
       "    </tr>\n",
       "  </tbody>\n",
       "</table>\n",
       "</div>"
      ],
      "text/plain": [
       "                Missing Values  Percentage\n",
       "prev_sold_date          331835       23.49\n",
       "acre_lot                249872       17.69\n",
       "house_size               87325        6.18\n",
       "bath                     42084        2.98\n",
       "bed                      17972        1.27\n",
       "status                       0        0.00\n",
       "city                         0        0.00\n",
       "state                        0        0.00\n",
       "zip_code                     0        0.00\n",
       "price                        0        0.00\n",
       "has_prev_sale                0        0.00"
      ]
     },
     "execution_count": 19,
     "metadata": {},
     "output_type": "execute_result"
    }
   ],
   "source": [
    "\"\"\"\n",
    "Overlap findings: \"More than 90% of rows with missing house_size also have missing bed and bath\"\n",
    "Status correlation: \"around 24% of missing values are from for sale or sold properties\"\n",
    "Decision made: \"Based on the overlap, we decided to drop these rows, \n",
    "house_size is critical for our analysis and these properties are likely land-only listings\"\n",
    "\"\"\"\n",
    "df = df.drop(land.index)\n",
    "missing_report(df)"
   ]
  },
  {
   "cell_type": "code",
   "execution_count": 20,
   "id": "9941d8fb",
   "metadata": {},
   "outputs": [
    {
     "data": {
      "application/vnd.plotly.v1+json": {
       "config": {
        "plotlyServerURL": "https://plot.ly"
       },
       "data": [
        {
         "colorbar": {
          "title": {
           "text": "Correlation"
          }
         },
         "colorscale": [
          [
           0,
           "rgb(0,104,55)"
          ],
          [
           0.1,
           "rgb(26,152,80)"
          ],
          [
           0.2,
           "rgb(102,189,99)"
          ],
          [
           0.3,
           "rgb(166,217,106)"
          ],
          [
           0.4,
           "rgb(217,239,139)"
          ],
          [
           0.5,
           "rgb(255,255,191)"
          ],
          [
           0.6,
           "rgb(254,224,139)"
          ],
          [
           0.7,
           "rgb(253,174,97)"
          ],
          [
           0.8,
           "rgb(244,109,67)"
          ],
          [
           0.9,
           "rgb(215,48,39)"
          ],
          [
           1,
           "rgb(165,0,38)"
          ]
         ],
         "hovertemplate": "<b>%{y} vs %{x}</b><br>Correlation: %{z:.3f}<br><extra></extra>",
         "text": [
          [
           1,
           0.9369559152068279,
           0.8459405750640848,
           -0.15554986450051808,
           0.38720498358309496
          ],
          [
           0.9369559152068279,
           1,
           0.8243357076303737,
           -0.08365201208965951,
           0.4102968048269094
          ],
          [
           0.8459405750640848,
           0.8243357076303737,
           1,
           -0.09743551381140644,
           0.34608915316291977
          ],
          [
           -0.15554986450051808,
           -0.08365201208965951,
           -0.09743551381140644,
           1,
           0.06417317099430976
          ],
          [
           0.38720498358309496,
           0.4102968048269094,
           0.34608915316291977,
           0.06417317099430976,
           1
          ]
         ],
         "textfont": {
          "family": "Arial Black",
          "size": 14
         },
         "texttemplate": "%{text:.2f}",
         "type": "heatmap",
         "x": [
          "bed",
          "bath",
          "house_size",
          "acre_lot",
          "prev_sold_date"
         ],
         "y": [
          "bed",
          "bath",
          "house_size",
          "acre_lot",
          "prev_sold_date"
         ],
         "z": [
          [
           1,
           0.9369559152068279,
           0.8459405750640848,
           -0.15554986450051808,
           0.38720498358309496
          ],
          [
           0.9369559152068279,
           1,
           0.8243357076303737,
           -0.08365201208965951,
           0.4102968048269094
          ],
          [
           0.8459405750640848,
           0.8243357076303737,
           1,
           -0.09743551381140644,
           0.34608915316291977
          ],
          [
           -0.15554986450051808,
           -0.08365201208965951,
           -0.09743551381140644,
           1,
           0.06417317099430976
          ],
          [
           0.38720498358309496,
           0.4102968048269094,
           0.34608915316291977,
           0.06417317099430976,
           1
          ]
         ],
         "zmid": 0.5
        }
       ],
       "layout": {
        "height": 700,
        "template": {
         "data": {
          "bar": [
           {
            "error_x": {
             "color": "#2a3f5f"
            },
            "error_y": {
             "color": "#2a3f5f"
            },
            "marker": {
             "line": {
              "color": "white",
              "width": 0.5
             },
             "pattern": {
              "fillmode": "overlay",
              "size": 10,
              "solidity": 0.2
             }
            },
            "type": "bar"
           }
          ],
          "barpolar": [
           {
            "marker": {
             "line": {
              "color": "white",
              "width": 0.5
             },
             "pattern": {
              "fillmode": "overlay",
              "size": 10,
              "solidity": 0.2
             }
            },
            "type": "barpolar"
           }
          ],
          "carpet": [
           {
            "aaxis": {
             "endlinecolor": "#2a3f5f",
             "gridcolor": "#C8D4E3",
             "linecolor": "#C8D4E3",
             "minorgridcolor": "#C8D4E3",
             "startlinecolor": "#2a3f5f"
            },
            "baxis": {
             "endlinecolor": "#2a3f5f",
             "gridcolor": "#C8D4E3",
             "linecolor": "#C8D4E3",
             "minorgridcolor": "#C8D4E3",
             "startlinecolor": "#2a3f5f"
            },
            "type": "carpet"
           }
          ],
          "choropleth": [
           {
            "colorbar": {
             "outlinewidth": 0,
             "ticks": ""
            },
            "type": "choropleth"
           }
          ],
          "contour": [
           {
            "colorbar": {
             "outlinewidth": 0,
             "ticks": ""
            },
            "colorscale": [
             [
              0,
              "#0d0887"
             ],
             [
              0.1111111111111111,
              "#46039f"
             ],
             [
              0.2222222222222222,
              "#7201a8"
             ],
             [
              0.3333333333333333,
              "#9c179e"
             ],
             [
              0.4444444444444444,
              "#bd3786"
             ],
             [
              0.5555555555555556,
              "#d8576b"
             ],
             [
              0.6666666666666666,
              "#ed7953"
             ],
             [
              0.7777777777777778,
              "#fb9f3a"
             ],
             [
              0.8888888888888888,
              "#fdca26"
             ],
             [
              1,
              "#f0f921"
             ]
            ],
            "type": "contour"
           }
          ],
          "contourcarpet": [
           {
            "colorbar": {
             "outlinewidth": 0,
             "ticks": ""
            },
            "type": "contourcarpet"
           }
          ],
          "heatmap": [
           {
            "colorbar": {
             "outlinewidth": 0,
             "ticks": ""
            },
            "colorscale": [
             [
              0,
              "#0d0887"
             ],
             [
              0.1111111111111111,
              "#46039f"
             ],
             [
              0.2222222222222222,
              "#7201a8"
             ],
             [
              0.3333333333333333,
              "#9c179e"
             ],
             [
              0.4444444444444444,
              "#bd3786"
             ],
             [
              0.5555555555555556,
              "#d8576b"
             ],
             [
              0.6666666666666666,
              "#ed7953"
             ],
             [
              0.7777777777777778,
              "#fb9f3a"
             ],
             [
              0.8888888888888888,
              "#fdca26"
             ],
             [
              1,
              "#f0f921"
             ]
            ],
            "type": "heatmap"
           }
          ],
          "heatmapgl": [
           {
            "colorbar": {
             "outlinewidth": 0,
             "ticks": ""
            },
            "colorscale": [
             [
              0,
              "#0d0887"
             ],
             [
              0.1111111111111111,
              "#46039f"
             ],
             [
              0.2222222222222222,
              "#7201a8"
             ],
             [
              0.3333333333333333,
              "#9c179e"
             ],
             [
              0.4444444444444444,
              "#bd3786"
             ],
             [
              0.5555555555555556,
              "#d8576b"
             ],
             [
              0.6666666666666666,
              "#ed7953"
             ],
             [
              0.7777777777777778,
              "#fb9f3a"
             ],
             [
              0.8888888888888888,
              "#fdca26"
             ],
             [
              1,
              "#f0f921"
             ]
            ],
            "type": "heatmapgl"
           }
          ],
          "histogram": [
           {
            "marker": {
             "pattern": {
              "fillmode": "overlay",
              "size": 10,
              "solidity": 0.2
             }
            },
            "type": "histogram"
           }
          ],
          "histogram2d": [
           {
            "colorbar": {
             "outlinewidth": 0,
             "ticks": ""
            },
            "colorscale": [
             [
              0,
              "#0d0887"
             ],
             [
              0.1111111111111111,
              "#46039f"
             ],
             [
              0.2222222222222222,
              "#7201a8"
             ],
             [
              0.3333333333333333,
              "#9c179e"
             ],
             [
              0.4444444444444444,
              "#bd3786"
             ],
             [
              0.5555555555555556,
              "#d8576b"
             ],
             [
              0.6666666666666666,
              "#ed7953"
             ],
             [
              0.7777777777777778,
              "#fb9f3a"
             ],
             [
              0.8888888888888888,
              "#fdca26"
             ],
             [
              1,
              "#f0f921"
             ]
            ],
            "type": "histogram2d"
           }
          ],
          "histogram2dcontour": [
           {
            "colorbar": {
             "outlinewidth": 0,
             "ticks": ""
            },
            "colorscale": [
             [
              0,
              "#0d0887"
             ],
             [
              0.1111111111111111,
              "#46039f"
             ],
             [
              0.2222222222222222,
              "#7201a8"
             ],
             [
              0.3333333333333333,
              "#9c179e"
             ],
             [
              0.4444444444444444,
              "#bd3786"
             ],
             [
              0.5555555555555556,
              "#d8576b"
             ],
             [
              0.6666666666666666,
              "#ed7953"
             ],
             [
              0.7777777777777778,
              "#fb9f3a"
             ],
             [
              0.8888888888888888,
              "#fdca26"
             ],
             [
              1,
              "#f0f921"
             ]
            ],
            "type": "histogram2dcontour"
           }
          ],
          "mesh3d": [
           {
            "colorbar": {
             "outlinewidth": 0,
             "ticks": ""
            },
            "type": "mesh3d"
           }
          ],
          "parcoords": [
           {
            "line": {
             "colorbar": {
              "outlinewidth": 0,
              "ticks": ""
             }
            },
            "type": "parcoords"
           }
          ],
          "pie": [
           {
            "automargin": true,
            "type": "pie"
           }
          ],
          "scatter": [
           {
            "fillpattern": {
             "fillmode": "overlay",
             "size": 10,
             "solidity": 0.2
            },
            "type": "scatter"
           }
          ],
          "scatter3d": [
           {
            "line": {
             "colorbar": {
              "outlinewidth": 0,
              "ticks": ""
             }
            },
            "marker": {
             "colorbar": {
              "outlinewidth": 0,
              "ticks": ""
             }
            },
            "type": "scatter3d"
           }
          ],
          "scattercarpet": [
           {
            "marker": {
             "colorbar": {
              "outlinewidth": 0,
              "ticks": ""
             }
            },
            "type": "scattercarpet"
           }
          ],
          "scattergeo": [
           {
            "marker": {
             "colorbar": {
              "outlinewidth": 0,
              "ticks": ""
             }
            },
            "type": "scattergeo"
           }
          ],
          "scattergl": [
           {
            "marker": {
             "colorbar": {
              "outlinewidth": 0,
              "ticks": ""
             }
            },
            "type": "scattergl"
           }
          ],
          "scattermapbox": [
           {
            "marker": {
             "colorbar": {
              "outlinewidth": 0,
              "ticks": ""
             }
            },
            "type": "scattermapbox"
           }
          ],
          "scatterpolar": [
           {
            "marker": {
             "colorbar": {
              "outlinewidth": 0,
              "ticks": ""
             }
            },
            "type": "scatterpolar"
           }
          ],
          "scatterpolargl": [
           {
            "marker": {
             "colorbar": {
              "outlinewidth": 0,
              "ticks": ""
             }
            },
            "type": "scatterpolargl"
           }
          ],
          "scatterternary": [
           {
            "marker": {
             "colorbar": {
              "outlinewidth": 0,
              "ticks": ""
             }
            },
            "type": "scatterternary"
           }
          ],
          "surface": [
           {
            "colorbar": {
             "outlinewidth": 0,
             "ticks": ""
            },
            "colorscale": [
             [
              0,
              "#0d0887"
             ],
             [
              0.1111111111111111,
              "#46039f"
             ],
             [
              0.2222222222222222,
              "#7201a8"
             ],
             [
              0.3333333333333333,
              "#9c179e"
             ],
             [
              0.4444444444444444,
              "#bd3786"
             ],
             [
              0.5555555555555556,
              "#d8576b"
             ],
             [
              0.6666666666666666,
              "#ed7953"
             ],
             [
              0.7777777777777778,
              "#fb9f3a"
             ],
             [
              0.8888888888888888,
              "#fdca26"
             ],
             [
              1,
              "#f0f921"
             ]
            ],
            "type": "surface"
           }
          ],
          "table": [
           {
            "cells": {
             "fill": {
              "color": "#EBF0F8"
             },
             "line": {
              "color": "white"
             }
            },
            "header": {
             "fill": {
              "color": "#C8D4E3"
             },
             "line": {
              "color": "white"
             }
            },
            "type": "table"
           }
          ]
         },
         "layout": {
          "annotationdefaults": {
           "arrowcolor": "#2a3f5f",
           "arrowhead": 0,
           "arrowwidth": 1
          },
          "autotypenumbers": "strict",
          "coloraxis": {
           "colorbar": {
            "outlinewidth": 0,
            "ticks": ""
           }
          },
          "colorscale": {
           "diverging": [
            [
             0,
             "#8e0152"
            ],
            [
             0.1,
             "#c51b7d"
            ],
            [
             0.2,
             "#de77ae"
            ],
            [
             0.3,
             "#f1b6da"
            ],
            [
             0.4,
             "#fde0ef"
            ],
            [
             0.5,
             "#f7f7f7"
            ],
            [
             0.6,
             "#e6f5d0"
            ],
            [
             0.7,
             "#b8e186"
            ],
            [
             0.8,
             "#7fbc41"
            ],
            [
             0.9,
             "#4d9221"
            ],
            [
             1,
             "#276419"
            ]
           ],
           "sequential": [
            [
             0,
             "#0d0887"
            ],
            [
             0.1111111111111111,
             "#46039f"
            ],
            [
             0.2222222222222222,
             "#7201a8"
            ],
            [
             0.3333333333333333,
             "#9c179e"
            ],
            [
             0.4444444444444444,
             "#bd3786"
            ],
            [
             0.5555555555555556,
             "#d8576b"
            ],
            [
             0.6666666666666666,
             "#ed7953"
            ],
            [
             0.7777777777777778,
             "#fb9f3a"
            ],
            [
             0.8888888888888888,
             "#fdca26"
            ],
            [
             1,
             "#f0f921"
            ]
           ],
           "sequentialminus": [
            [
             0,
             "#0d0887"
            ],
            [
             0.1111111111111111,
             "#46039f"
            ],
            [
             0.2222222222222222,
             "#7201a8"
            ],
            [
             0.3333333333333333,
             "#9c179e"
            ],
            [
             0.4444444444444444,
             "#bd3786"
            ],
            [
             0.5555555555555556,
             "#d8576b"
            ],
            [
             0.6666666666666666,
             "#ed7953"
            ],
            [
             0.7777777777777778,
             "#fb9f3a"
            ],
            [
             0.8888888888888888,
             "#fdca26"
            ],
            [
             1,
             "#f0f921"
            ]
           ]
          },
          "colorway": [
           "#636efa",
           "#EF553B",
           "#00cc96",
           "#ab63fa",
           "#FFA15A",
           "#19d3f3",
           "#FF6692",
           "#B6E880",
           "#FF97FF",
           "#FECB52"
          ],
          "font": {
           "color": "#2a3f5f"
          },
          "geo": {
           "bgcolor": "white",
           "lakecolor": "white",
           "landcolor": "white",
           "showlakes": true,
           "showland": true,
           "subunitcolor": "#C8D4E3"
          },
          "hoverlabel": {
           "align": "left"
          },
          "hovermode": "closest",
          "mapbox": {
           "style": "light"
          },
          "paper_bgcolor": "white",
          "plot_bgcolor": "white",
          "polar": {
           "angularaxis": {
            "gridcolor": "#EBF0F8",
            "linecolor": "#EBF0F8",
            "ticks": ""
           },
           "bgcolor": "white",
           "radialaxis": {
            "gridcolor": "#EBF0F8",
            "linecolor": "#EBF0F8",
            "ticks": ""
           }
          },
          "scene": {
           "xaxis": {
            "backgroundcolor": "white",
            "gridcolor": "#DFE8F3",
            "gridwidth": 2,
            "linecolor": "#EBF0F8",
            "showbackground": true,
            "ticks": "",
            "zerolinecolor": "#EBF0F8"
           },
           "yaxis": {
            "backgroundcolor": "white",
            "gridcolor": "#DFE8F3",
            "gridwidth": 2,
            "linecolor": "#EBF0F8",
            "showbackground": true,
            "ticks": "",
            "zerolinecolor": "#EBF0F8"
           },
           "zaxis": {
            "backgroundcolor": "white",
            "gridcolor": "#DFE8F3",
            "gridwidth": 2,
            "linecolor": "#EBF0F8",
            "showbackground": true,
            "ticks": "",
            "zerolinecolor": "#EBF0F8"
           }
          },
          "shapedefaults": {
           "line": {
            "color": "#2a3f5f"
           }
          },
          "ternary": {
           "aaxis": {
            "gridcolor": "#DFE8F3",
            "linecolor": "#A2B1C6",
            "ticks": ""
           },
           "baxis": {
            "gridcolor": "#DFE8F3",
            "linecolor": "#A2B1C6",
            "ticks": ""
           },
           "bgcolor": "white",
           "caxis": {
            "gridcolor": "#DFE8F3",
            "linecolor": "#A2B1C6",
            "ticks": ""
           }
          },
          "title": {
           "x": 0.05
          },
          "xaxis": {
           "automargin": true,
           "gridcolor": "#EBF0F8",
           "linecolor": "#EBF0F8",
           "ticks": "",
           "title": {
            "standoff": 15
           },
           "zerolinecolor": "#EBF0F8",
           "zerolinewidth": 2
          },
          "yaxis": {
           "automargin": true,
           "gridcolor": "#EBF0F8",
           "linecolor": "#EBF0F8",
           "ticks": "",
           "title": {
            "standoff": 15
           },
           "zerolinecolor": "#EBF0F8",
           "zerolinewidth": 2
          }
         }
        },
        "title": {
         "font": {
          "family": "Arial Black",
          "size": 20
         },
         "text": "<b>New Missing Value Correlation Matrix</b><br><sub>Higher values = features tend to be missing together</sub>",
         "x": 0.5,
         "xanchor": "center"
        },
        "width": 800,
        "xaxis": {
         "title": {
          "text": "Features"
         }
        },
        "yaxis": {
         "title": {
          "text": "Features"
         }
        }
       }
      }
     },
     "metadata": {},
     "output_type": "display_data"
    }
   ],
   "source": [
    "# Correlation matrix of missing values\n",
    "# critical_cols = ['bed', 'bath', 'house_size', 'acre_lot', 'prev_sold_date'] # columns with significant missing values\n",
    "# missing_indicators = df[critical_cols].isnull().astype(int) # create binary indicators\n",
    "corr_matrix_after = missing_indicators.corr() # correlation matrix\n",
    "\n",
    "fig6 = go.Figure(data=go.Heatmap(\n",
    "    z=corr_matrix_after.values,\n",
    "    x=corr_matrix_after.columns,\n",
    "    y=corr_matrix_after.index,\n",
    "    colorscale='RdYlGn_r',\n",
    "    zmid=0.5,\n",
    "    text=corr_matrix_after.values,\n",
    "    texttemplate='%{text:.2f}',\n",
    "    textfont={\"size\": 14, \"family\": \"Arial Black\"},\n",
    "    colorbar=dict(title=\"Correlation\"),\n",
    "    hovertemplate='<b>%{y} vs %{x}</b><br>' +\n",
    "                  'Correlation: %{z:.3f}<br>' +\n",
    "                  '<extra></extra>'\n",
    "))\n",
    "\n",
    "fig6.update_layout(\n",
    "    title={\n",
    "        'text': '<b>New Missing Value Correlation Matrix</b><br>' +\n",
    "                '<sub>Higher values = features tend to be missing together</sub>',\n",
    "        'x': 0.5,\n",
    "        'xanchor': 'center',\n",
    "        'font': {'size': 20, 'family': 'Arial Black'}\n",
    "    },\n",
    "    xaxis_title='Features',\n",
    "    yaxis_title='Features',\n",
    "    width=800,\n",
    "    height=700,\n",
    "    template='plotly_white'\n",
    ")\n",
    "\n",
    "fig6.show()\n"
   ]
  },
  {
   "cell_type": "code",
   "execution_count": 21,
   "id": "fc529fec",
   "metadata": {},
   "outputs": [
    {
     "data": {
      "text/html": [
       "<div>\n",
       "<style scoped>\n",
       "    .dataframe tbody tr th:only-of-type {\n",
       "        vertical-align: middle;\n",
       "    }\n",
       "\n",
       "    .dataframe tbody tr th {\n",
       "        vertical-align: top;\n",
       "    }\n",
       "\n",
       "    .dataframe thead th {\n",
       "        text-align: right;\n",
       "    }\n",
       "</style>\n",
       "<table border=\"1\" class=\"dataframe\">\n",
       "  <thead>\n",
       "    <tr style=\"text-align: right;\">\n",
       "      <th></th>\n",
       "      <th>bed</th>\n",
       "      <th>bath</th>\n",
       "    </tr>\n",
       "    <tr>\n",
       "      <th>status</th>\n",
       "      <th></th>\n",
       "      <th></th>\n",
       "    </tr>\n",
       "  </thead>\n",
       "  <tbody>\n",
       "    <tr>\n",
       "      <th>for_sale</th>\n",
       "      <td>10676</td>\n",
       "      <td>8612</td>\n",
       "    </tr>\n",
       "    <tr>\n",
       "      <th>ready_to_build</th>\n",
       "      <td>2</td>\n",
       "      <td>19844</td>\n",
       "    </tr>\n",
       "    <tr>\n",
       "      <th>sold</th>\n",
       "      <td>7294</td>\n",
       "      <td>13628</td>\n",
       "    </tr>\n",
       "  </tbody>\n",
       "</table>\n",
       "</div>"
      ],
      "text/plain": [
       "                  bed   bath\n",
       "status                      \n",
       "for_sale        10676   8612\n",
       "ready_to_build      2  19844\n",
       "sold             7294  13628"
      ]
     },
     "execution_count": 21,
     "metadata": {},
     "output_type": "execute_result"
    }
   ],
   "source": [
    "# distribution of status in missingness of bed and bath\n",
    "df.groupby('status')[['bed', 'bath']].apply( lambda x: x.isna().sum())"
   ]
  },
  {
   "cell_type": "markdown",
   "id": "7c8bbe48",
   "metadata": {},
   "source": [
    "### Step2.2 acre lot - Why is it missing?"
   ]
  },
  {
   "cell_type": "code",
   "execution_count": 22,
   "id": "43149c61",
   "metadata": {},
   "outputs": [
    {
     "data": {
      "text/plain": [
       "status\n",
       "for_sale          145726\n",
       "ready_to_build     19844\n",
       "sold               84302\n",
       "Name: acre_lot, dtype: int64"
      ]
     },
     "execution_count": 22,
     "metadata": {},
     "output_type": "execute_result"
    }
   ],
   "source": [
    "df.groupby('status')['acre_lot'].apply( lambda x: x.isna().sum())"
   ]
  },
  {
   "cell_type": "markdown",
   "id": "dfa95e2f",
   "metadata": {},
   "source": [
    "Questions to explore:\n",
    "\n",
    "1. Check: Does missingness correlate with city (urban vs rural)?\n",
    "2. Impute with 0 for apartments/condos (or create \"unknown\" category)\n",
    "3. OR use median by city/state\n",
    "4. Consider: Create binary feature has_lot_info"
   ]
  },
  {
   "cell_type": "code",
   "execution_count": 23,
   "id": "cdcd1d62",
   "metadata": {},
   "outputs": [
    {
     "name": "stdout",
     "output_type": "stream",
     "text": [
      "House size of Houses with lots 2181.696842823443\n",
      "House size of Houses without lots 6369.4579094942965\n",
      "Price of Houses with lots 578231.9583746062\n",
      "Prices of Houses without lots 596626.8113530127\n"
     ]
    }
   ],
   "source": [
    "# is it rural or urban? How we can check it? Why? If it's in urban place, it's likely to be an apartment or condo, so we can impute with 0.\n",
    "\n",
    "# Compare properties WITH vs WITHOUT acre_lot\n",
    "print('House size of Houses with lots', df[df['acre_lot'].notna()]['house_size'].mean())  # Houses with lots\n",
    "print('House size of Houses without lots', df[df['acre_lot'].isna()]['house_size'].mean())   # Houses without lots\n",
    "# Are they different? If yes → systematic!\n",
    "# It means that the house' properties are different, it's likely is a different type of property as we mentioned above.\n",
    "\n",
    "#Price\n",
    "print('Price of Houses with lots', df[df['acre_lot'].notna()]['price'].mean())  # Houses with lots\n",
    "print('Prices of Houses without lots', df[df['acre_lot'].isna()]['price'].mean())   # Houses without lots"
   ]
  },
  {
   "cell_type": "code",
   "execution_count": 24,
   "id": "db6d4e7d",
   "metadata": {},
   "outputs": [
    {
     "name": "stdout",
     "output_type": "stream",
     "text": [
      "House size statistics for missing acre_lot:\n",
      "count    2.204060e+05\n",
      "mean     6.369458e+03\n",
      "std      2.216095e+06\n",
      "min      4.000000e+00\n",
      "25%      1.043000e+03\n",
      "50%      1.443000e+03\n",
      "75%      2.022000e+03\n",
      "max      1.040400e+09\n",
      "Name: house_size, dtype: float64\n",
      "\n",
      "Percentiles:\n",
      "  25th: 1043 sqft\n",
      "  50th: 1443 sqft\n",
      "  75th: 2022 sqft\n",
      "  90th: 2706 sqft\n",
      "  95th: 3176 sqft\n",
      "  99th: 4439 sqft\n",
      "\n",
      "Properties >10,000 sqft: 192 (0.1%)\n"
     ]
    }
   ],
   "source": [
    "# Look at distribution\n",
    "missing_lot = df[df['acre_lot'].isna()]\n",
    "\n",
    "print(\"House size statistics for missing acre_lot:\")\n",
    "print(missing_lot['house_size'].describe())\n",
    "\n",
    "print(\"\\nPercentiles:\")\n",
    "for p in [25, 50, 75, 90, 95, 99]:\n",
    "    val = missing_lot['house_size'].quantile(p/100)\n",
    "    print(f\"  {p}th: {val:.0f} sqft\")\n",
    "\n",
    "# Check for extreme outliers\n",
    "extreme = missing_lot[missing_lot['house_size'] > 10000]\n",
    "print(f\"\\nProperties >10,000 sqft: {len(extreme):,} ({len(extreme)/len(missing_lot)*100:.1f}%)\")"
   ]
  },
  {
   "cell_type": "code",
   "execution_count": 25,
   "id": "7462f71b",
   "metadata": {},
   "outputs": [
    {
     "name": "stdout",
     "output_type": "stream",
     "text": [
      "Removed 87,410 extreme outliers\n"
     ]
    },
    {
     "data": {
      "text/html": [
       "<div>\n",
       "<style scoped>\n",
       "    .dataframe tbody tr th:only-of-type {\n",
       "        vertical-align: middle;\n",
       "    }\n",
       "\n",
       "    .dataframe tbody tr th {\n",
       "        vertical-align: top;\n",
       "    }\n",
       "\n",
       "    .dataframe thead th {\n",
       "        text-align: right;\n",
       "    }\n",
       "</style>\n",
       "<table border=\"1\" class=\"dataframe\">\n",
       "  <thead>\n",
       "    <tr style=\"text-align: right;\">\n",
       "      <th></th>\n",
       "      <th>Missing Values</th>\n",
       "      <th>Percentage</th>\n",
       "    </tr>\n",
       "  </thead>\n",
       "  <tbody>\n",
       "    <tr>\n",
       "      <th>prev_sold_date</th>\n",
       "      <td>310307</td>\n",
       "      <td>23.41</td>\n",
       "    </tr>\n",
       "    <tr>\n",
       "      <th>acre_lot</th>\n",
       "      <td>220402</td>\n",
       "      <td>16.63</td>\n",
       "    </tr>\n",
       "    <tr>\n",
       "      <th>bath</th>\n",
       "      <td>35362</td>\n",
       "      <td>2.67</td>\n",
       "    </tr>\n",
       "    <tr>\n",
       "      <th>bed</th>\n",
       "      <td>16280</td>\n",
       "      <td>1.23</td>\n",
       "    </tr>\n",
       "    <tr>\n",
       "      <th>status</th>\n",
       "      <td>0</td>\n",
       "      <td>0.00</td>\n",
       "    </tr>\n",
       "    <tr>\n",
       "      <th>city</th>\n",
       "      <td>0</td>\n",
       "      <td>0.00</td>\n",
       "    </tr>\n",
       "    <tr>\n",
       "      <th>state</th>\n",
       "      <td>0</td>\n",
       "      <td>0.00</td>\n",
       "    </tr>\n",
       "    <tr>\n",
       "      <th>zip_code</th>\n",
       "      <td>0</td>\n",
       "      <td>0.00</td>\n",
       "    </tr>\n",
       "    <tr>\n",
       "      <th>house_size</th>\n",
       "      <td>0</td>\n",
       "      <td>0.00</td>\n",
       "    </tr>\n",
       "    <tr>\n",
       "      <th>price</th>\n",
       "      <td>0</td>\n",
       "      <td>0.00</td>\n",
       "    </tr>\n",
       "    <tr>\n",
       "      <th>has_prev_sale</th>\n",
       "      <td>0</td>\n",
       "      <td>0.00</td>\n",
       "    </tr>\n",
       "  </tbody>\n",
       "</table>\n",
       "</div>"
      ],
      "text/plain": [
       "                Missing Values  Percentage\n",
       "prev_sold_date          310307       23.41\n",
       "acre_lot                220402       16.63\n",
       "bath                     35362        2.67\n",
       "bed                      16280        1.23\n",
       "status                       0        0.00\n",
       "city                         0        0.00\n",
       "state                        0        0.00\n",
       "zip_code                     0        0.00\n",
       "house_size                   0        0.00\n",
       "price                        0        0.00\n",
       "has_prev_sale                0        0.00"
      ]
     },
     "execution_count": 25,
     "metadata": {},
     "output_type": "execute_result"
    }
   ],
   "source": [
    "# Remove physically impossible values\n",
    "# Largest homes in USA are ~100,000 sqft\n",
    "# Anything beyond that is likely an error\n",
    "extreme_outliers = df[df['house_size'] > 50000]\n",
    "df_clean = df[df['house_size'] <= 100000].copy()\n",
    "print(f\"Removed {len(df) - len(df_clean):,} extreme outliers\")\n",
    "# df.drop(extreme_outliers)\n",
    "missing_report(df_clean)"
   ]
  },
  {
   "cell_type": "code",
   "execution_count": 26,
   "id": "1d5fc38e",
   "metadata": {},
   "outputs": [
    {
     "name": "stdout",
     "output_type": "stream",
     "text": [
      "AFTER removing outliers:\n",
      "\n",
      "WITH acre_lot:\n",
      "  Mean: 2112 sqft\n",
      "  Median: 1817 sqft\n",
      "\n",
      "WITHOUT acre_lot:\n",
      "  Mean: 1640 sqft\n",
      "  Median: 1443 sqft\n"
     ]
    }
   ],
   "source": [
    "# After removing outliers\n",
    "df_clean = df[df['house_size'] <= 50000]  # Reasonable upper bound\n",
    "\n",
    "with_lot = df_clean[df_clean['acre_lot'].notna()]\n",
    "without_lot = df_clean[df_clean['acre_lot'].isna()]\n",
    "\n",
    "print(\"AFTER removing outliers:\")\n",
    "print(f\"\\nWITH acre_lot:\")\n",
    "print(f\"  Mean: {with_lot['house_size'].mean():.0f} sqft\")\n",
    "print(f\"  Median: {with_lot['house_size'].median():.0f} sqft\")\n",
    "\n",
    "print(f\"\\nWITHOUT acre_lot:\")\n",
    "print(f\"  Mean: {without_lot['house_size'].mean():.0f} sqft\")\n",
    "print(f\"  Median: {without_lot['house_size'].median():.0f} sqft\")"
   ]
  },
  {
   "cell_type": "code",
   "execution_count": 27,
   "id": "ba489171",
   "metadata": {},
   "outputs": [
    {
     "name": "stderr",
     "output_type": "stream",
     "text": [
      "c:\\anaconda\\Lib\\site-packages\\pandas\\core\\arraylike.py:399: RuntimeWarning:\n",
      "\n",
      "divide by zero encountered in log10\n",
      "\n"
     ]
    },
    {
     "data": {
      "image/png": "[encoded data removed]",
      "text/plain": [
       "<Figure size 800x600 with 1 Axes>"
      ]
     },
     "metadata": {},
     "output_type": "display_data"
    }
   ],
   "source": [
    "\n",
    "plt.figure(figsize=(8, 6))\n",
    "sns.boxplot(\n",
    "    x=df['acre_lot'].isnull().map({True: 'No acre_lot', False: 'Has acre_lot'}),\n",
    "    y=np.log10(df['price'])\n",
    ")\n",
    "plt.xlabel('Acre Lot Information')\n",
    "plt.ylabel('Price (money money)')\n",
    "plt.title('Price Distribution by Acre Lot Availability')\n",
    "plt.show()"
   ]
  },
  {
   "cell_type": "code",
   "execution_count": 28,
   "id": "0a8f5b48",
   "metadata": {},
   "outputs": [
    {
     "data": {
      "image/png": "[encoded data removed]",
      "text/plain": [
       "<Figure size 800x600 with 1 Axes>"
      ]
     },
     "metadata": {},
     "output_type": "display_data"
    }
   ],
   "source": [
    "plt.figure(figsize=(8, 6))\n",
    "sns.boxplot(\n",
    "    x=df['acre_lot'].isnull().map({True: 'No acre_lot', False: 'Has acre_lot'}),\n",
    "    y=np.log10(df['house_size'])\n",
    ")\n",
    "plt.xlabel('Acre Lot Information')\n",
    "plt.ylabel('Log(House Size + 1)')\n",
    "plt.title('Log-Scaled House Size Distribution by Acre Lot Availability')\n",
    "plt.show()"
   ]
  },
  {
   "cell_type": "markdown",
   "id": "7d6d9c1d",
   "metadata": {},
   "source": [
    "Now we can confirm out theory about condos/apartments. These houses are likely to be an apartment or condos. \n",
    "Their sizes are different but price distribution are roughly the same, I assume they are located in urban area. "
   ]
  },
  {
   "cell_type": "code",
   "execution_count": 29,
   "id": "172ef453",
   "metadata": {},
   "outputs": [
    {
     "name": "stdout",
     "output_type": "stream",
     "text": [
      "Existing acre_lot values that are 0: 1,554 (0.13%)\n",
      "Min acre_lot (non-zero): 0.0100 acres\n"
     ]
    }
   ],
   "source": [
    "#beofre imputing with zero, one more thing to check\n",
    "# Of properties that HAVE acre_lot data, how many are 0?\n",
    "has_lot = df[df['acre_lot'].notna()]\n",
    "zero_count = (has_lot['acre_lot'] == 0).sum()\n",
    "zero_pct = (zero_count / len(has_lot)) * 100\n",
    "\n",
    "print(f\"Existing acre_lot values that are 0: {zero_count:,} ({zero_pct:.2f}%)\")\n",
    "print(f\"Min acre_lot (non-zero): {has_lot[has_lot['acre_lot'] > 0]['acre_lot'].min():.4f} acres\")"
   ]
  },
  {
   "cell_type": "code",
   "execution_count": 30,
   "id": "00c5d860",
   "metadata": {},
   "outputs": [
    {
     "data": {
      "text/plain": [
       "array(['California', 'Florida', 'Wisconsin', 'Utah', 'Pennsylvania',\n",
       "       'Oklahoma', 'Texas', 'Kentucky', 'Maryland', 'Georgia', 'Oregon',\n",
       "       'Minnesota', 'Colorado', 'Ohio', 'Mississippi', 'Virginia',\n",
       "       'Illinois', 'Michigan', 'Rhode Island', 'Louisiana',\n",
       "       'North Carolina', 'Tennessee', 'New Mexico', 'Idaho', 'New Jersey',\n",
       "       'Arizona', 'Massachusetts', 'South Dakota', 'Alabama', 'Arkansas',\n",
       "       'New York', 'Iowa', 'Nevada', 'Missouri', 'South Carolina',\n",
       "       'Kansas', 'Washington', 'Indiana', 'Montana', 'Nebraska', 'Maine',\n",
       "       'Delaware', 'West Virginia', 'Guam', 'Puerto Rico',\n",
       "       'District of Columbia', 'Connecticut', 'Hawaii', 'Wyoming',\n",
       "       'Alaska', 'Vermont', 'New Hampshire', 'North Dakota',\n",
       "       'Virgin Islands'], dtype=object)"
      ]
     },
     "execution_count": 30,
     "metadata": {},
     "output_type": "execute_result"
    }
   ],
   "source": [
    "df['state'].unique()"
   ]
  },
  {
   "cell_type": "code",
   "execution_count": 31,
   "id": "ba392b25",
   "metadata": {},
   "outputs": [
    {
     "name": "stderr",
     "output_type": "stream",
     "text": [
      "C:\\Users\\Администратор\\AppData\\Local\\Temp\\ipykernel_1896\\190492300.py:22: FutureWarning:\n",
      "\n",
      "A value is trying to be set on a copy of a DataFrame or Series through chained assignment using an inplace method.\n",
      "The behavior will change in pandas 3.0. This inplace method will never work because the intermediate object on which we are setting values always behaves as a copy.\n",
      "\n",
      "For example, when doing 'df[col].method(value, inplace=True)', try using 'df.method({col: value}, inplace=True)' or df[col] = df[col].method(value) instead, to perform the operation inplace on the original object.\n",
      "\n",
      "\n",
      "\n"
     ]
    }
   ],
   "source": [
    "# Fill with median of small properties in same city\n",
    "\n",
    "# For properties without acre_lot (likely condos)\n",
    "# missing_mask = df['acre_lot'].isna()\n",
    "\n",
    "# # Impute with median of small properties (<2000 sqft) in same city\n",
    "# for city in df[missing_mask]['city'].unique():\n",
    "#     city_mask = (df['city'] == city) & (df['house_size'] < 2000) & (df['acre_lot'].notna())\n",
    "    \n",
    "#     if city_mask.sum() > 5:  # If enough samples\n",
    "#         city_small_median = df[city_mask]['acre_lot'].median()\n",
    "#         df.loc[(df['city'] == city) & missing_mask, 'acre_lot'] = city_small_median\n",
    "\n",
    "\"\"\"\n",
    "it ran more than 10 minutes, i had to stop, i had about 17k unique cities... \n",
    "\"\"\"\n",
    "\n",
    "# Fallback: state median for remaining\n",
    "df['acre_lot'] = df.groupby('state')['acre_lot'].transform(lambda x: x.fillna(x.median()))\n",
    "\n",
    "# Final fallback: 0\n",
    "df['acre_lot'].fillna(0, inplace=True)"
   ]
  },
  {
   "cell_type": "code",
   "execution_count": 32,
   "id": "9e491bd6",
   "metadata": {},
   "outputs": [
    {
     "data": {
      "text/html": [
       "<div>\n",
       "<style scoped>\n",
       "    .dataframe tbody tr th:only-of-type {\n",
       "        vertical-align: middle;\n",
       "    }\n",
       "\n",
       "    .dataframe tbody tr th {\n",
       "        vertical-align: top;\n",
       "    }\n",
       "\n",
       "    .dataframe thead th {\n",
       "        text-align: right;\n",
       "    }\n",
       "</style>\n",
       "<table border=\"1\" class=\"dataframe\">\n",
       "  <thead>\n",
       "    <tr style=\"text-align: right;\">\n",
       "      <th></th>\n",
       "      <th>Missing Values</th>\n",
       "      <th>Percentage</th>\n",
       "    </tr>\n",
       "  </thead>\n",
       "  <tbody>\n",
       "    <tr>\n",
       "      <th>prev_sold_date</th>\n",
       "      <td>331835</td>\n",
       "      <td>23.49</td>\n",
       "    </tr>\n",
       "    <tr>\n",
       "      <th>house_size</th>\n",
       "      <td>87325</td>\n",
       "      <td>6.18</td>\n",
       "    </tr>\n",
       "    <tr>\n",
       "      <th>bath</th>\n",
       "      <td>42084</td>\n",
       "      <td>2.98</td>\n",
       "    </tr>\n",
       "    <tr>\n",
       "      <th>bed</th>\n",
       "      <td>17972</td>\n",
       "      <td>1.27</td>\n",
       "    </tr>\n",
       "    <tr>\n",
       "      <th>status</th>\n",
       "      <td>0</td>\n",
       "      <td>0.00</td>\n",
       "    </tr>\n",
       "    <tr>\n",
       "      <th>acre_lot</th>\n",
       "      <td>0</td>\n",
       "      <td>0.00</td>\n",
       "    </tr>\n",
       "    <tr>\n",
       "      <th>city</th>\n",
       "      <td>0</td>\n",
       "      <td>0.00</td>\n",
       "    </tr>\n",
       "    <tr>\n",
       "      <th>state</th>\n",
       "      <td>0</td>\n",
       "      <td>0.00</td>\n",
       "    </tr>\n",
       "    <tr>\n",
       "      <th>zip_code</th>\n",
       "      <td>0</td>\n",
       "      <td>0.00</td>\n",
       "    </tr>\n",
       "    <tr>\n",
       "      <th>price</th>\n",
       "      <td>0</td>\n",
       "      <td>0.00</td>\n",
       "    </tr>\n",
       "    <tr>\n",
       "      <th>has_prev_sale</th>\n",
       "      <td>0</td>\n",
       "      <td>0.00</td>\n",
       "    </tr>\n",
       "  </tbody>\n",
       "</table>\n",
       "</div>"
      ],
      "text/plain": [
       "                Missing Values  Percentage\n",
       "prev_sold_date          331835       23.49\n",
       "house_size               87325        6.18\n",
       "bath                     42084        2.98\n",
       "bed                      17972        1.27\n",
       "status                       0        0.00\n",
       "acre_lot                     0        0.00\n",
       "city                         0        0.00\n",
       "state                        0        0.00\n",
       "zip_code                     0        0.00\n",
       "price                        0        0.00\n",
       "has_prev_sale                0        0.00"
      ]
     },
     "execution_count": 32,
     "metadata": {},
     "output_type": "execute_result"
    }
   ],
   "source": [
    "missing_report(df)"
   ]
  },
  {
   "cell_type": "code",
   "execution_count": 33,
   "id": "50a142f5",
   "metadata": {},
   "outputs": [
    {
     "name": "stdout",
     "output_type": "stream",
     "text": [
      "house_size + bed missing: 1,660\n",
      "house_size + bath missing: 6,694\n"
     ]
    }
   ],
   "source": [
    "missing_house_bed = df[df['house_size'].isna() & df['bed'].isna()]\n",
    "print(f\"house_size + bed missing: {len(missing_house_bed):,}\")\n",
    "\n",
    "missing_house_bath = df[df['house_size'].isna() & df['bath'].isna()]\n",
    "print(f\"house_size + bath missing: {len(missing_house_bath):,}\")"
   ]
  },
  {
   "cell_type": "markdown",
   "id": "e9382471",
   "metadata": {},
   "source": [
    "Overlapping is really small here, therefore we can assume it's random errors. "
   ]
  },
  {
   "cell_type": "code",
   "execution_count": 34,
   "id": "3db67988",
   "metadata": {},
   "outputs": [
    {
     "name": "stdout",
     "output_type": "stream",
     "text": [
      "1. Imputing bed...\n",
      "2. Imputing bath...\n",
      "3. Imputing house_size...\n",
      "\n",
      "✅ Imputation complete!\n"
     ]
    }
   ],
   "source": [
    "from sklearn.linear_model import LinearRegression\n",
    "from sklearn.preprocessing import LabelEncoder\n",
    "\n",
    "# Encode categoricals\n",
    "le_state = LabelEncoder()\n",
    "le_city = LabelEncoder()\n",
    "df['state_encoded'] = le_state.fit_transform(df['state'].astype(str))\n",
    "df['city_encoded'] = le_city.fit_transform(df['city'].astype(str))\n",
    "\n",
    "def fast_regression_impute(df, target, predictors):\n",
    "    \"\"\"Fast regression imputation\"\"\"\n",
    "    train = df[df[target].notna()]\n",
    "    predict = df[df[target].isna()]\n",
    "    \n",
    "    if len(predict) == 0:\n",
    "        return df[target]\n",
    "    \n",
    "    X_train = train[predictors].fillna(0)\n",
    "    y_train = train[target]\n",
    "    X_pred = predict[predictors].fillna(0)\n",
    "    \n",
    "    model = LinearRegression()\n",
    "    model.fit(X_train, y_train)\n",
    "    predictions = model.predict(X_pred)\n",
    "    \n",
    "    result = df[target].copy()\n",
    "    result.loc[predict.index] = predictions\n",
    "    return result\n",
    "\n",
    "# Impute in order \n",
    "print(\"1. Imputing bed...\")\n",
    "df['bed'] = fast_regression_impute(df, 'bed', \n",
    "    ['bath', 'house_size', 'price', 'state_encoded', 'city_encoded'])\n",
    "\n",
    "print(\"2. Imputing bath...\")\n",
    "df['bath'] = fast_regression_impute(df, 'bath',\n",
    "    ['bed', 'house_size', 'price', 'state_encoded', 'city_encoded'])\n",
    "\n",
    "print(\"3. Imputing house_size...\")\n",
    "df['house_size'] = fast_regression_impute(df, 'house_size',\n",
    "    ['bed', 'bath', 'acre_lot', 'price', 'state_encoded', 'city_encoded'])\n",
    "\n",
    "# Post-process: Round and clip to reasonable ranges\n",
    "df['bed'] = df['bed'].round().clip(0, 20).astype(int)\n",
    "df['bath'] = df['bath'].round().clip(0, 20).astype(int)\n",
    "df['house_size'] = df['house_size'].clip(100, 50000)\n",
    "\n",
    "# Clean up\n",
    "df = df.drop(['state_encoded', 'city_encoded'], axis=1)\n",
    "\n",
    "print(\"\\n✅ Imputation complete!\")"
   ]
  },
  {
   "cell_type": "code",
   "execution_count": 35,
   "id": "17c1c72f",
   "metadata": {},
   "outputs": [
    {
     "data": {
      "text/html": [
       "<div>\n",
       "<style scoped>\n",
       "    .dataframe tbody tr th:only-of-type {\n",
       "        vertical-align: middle;\n",
       "    }\n",
       "\n",
       "    .dataframe tbody tr th {\n",
       "        vertical-align: top;\n",
       "    }\n",
       "\n",
       "    .dataframe thead th {\n",
       "        text-align: right;\n",
       "    }\n",
       "</style>\n",
       "<table border=\"1\" class=\"dataframe\">\n",
       "  <thead>\n",
       "    <tr style=\"text-align: right;\">\n",
       "      <th></th>\n",
       "      <th>Missing Values</th>\n",
       "      <th>Percentage</th>\n",
       "    </tr>\n",
       "  </thead>\n",
       "  <tbody>\n",
       "    <tr>\n",
       "      <th>prev_sold_date</th>\n",
       "      <td>331835</td>\n",
       "      <td>23.49</td>\n",
       "    </tr>\n",
       "    <tr>\n",
       "      <th>status</th>\n",
       "      <td>0</td>\n",
       "      <td>0.00</td>\n",
       "    </tr>\n",
       "    <tr>\n",
       "      <th>bed</th>\n",
       "      <td>0</td>\n",
       "      <td>0.00</td>\n",
       "    </tr>\n",
       "    <tr>\n",
       "      <th>bath</th>\n",
       "      <td>0</td>\n",
       "      <td>0.00</td>\n",
       "    </tr>\n",
       "    <tr>\n",
       "      <th>acre_lot</th>\n",
       "      <td>0</td>\n",
       "      <td>0.00</td>\n",
       "    </tr>\n",
       "    <tr>\n",
       "      <th>city</th>\n",
       "      <td>0</td>\n",
       "      <td>0.00</td>\n",
       "    </tr>\n",
       "    <tr>\n",
       "      <th>state</th>\n",
       "      <td>0</td>\n",
       "      <td>0.00</td>\n",
       "    </tr>\n",
       "    <tr>\n",
       "      <th>zip_code</th>\n",
       "      <td>0</td>\n",
       "      <td>0.00</td>\n",
       "    </tr>\n",
       "    <tr>\n",
       "      <th>house_size</th>\n",
       "      <td>0</td>\n",
       "      <td>0.00</td>\n",
       "    </tr>\n",
       "    <tr>\n",
       "      <th>price</th>\n",
       "      <td>0</td>\n",
       "      <td>0.00</td>\n",
       "    </tr>\n",
       "    <tr>\n",
       "      <th>has_prev_sale</th>\n",
       "      <td>0</td>\n",
       "      <td>0.00</td>\n",
       "    </tr>\n",
       "  </tbody>\n",
       "</table>\n",
       "</div>"
      ],
      "text/plain": [
       "                Missing Values  Percentage\n",
       "prev_sold_date          331835       23.49\n",
       "status                       0        0.00\n",
       "bed                          0        0.00\n",
       "bath                         0        0.00\n",
       "acre_lot                     0        0.00\n",
       "city                         0        0.00\n",
       "state                        0        0.00\n",
       "zip_code                     0        0.00\n",
       "house_size                   0        0.00\n",
       "price                        0        0.00\n",
       "has_prev_sale                0        0.00"
      ]
     },
     "execution_count": 35,
     "metadata": {},
     "output_type": "execute_result"
    }
   ],
   "source": [
    "missing_report(df)"
   ]
  },
  {
   "cell_type": "code",
   "execution_count": null,
   "id": "1382dd5c",
   "metadata": {},
   "outputs": [],
   "source": []
  },
  {
   "cell_type": "markdown",
   "id": "e591def0",
   "metadata": {},
   "source": [
    "## Step 3. Analysis\n"
   ]
  },
  {
   "cell_type": "code",
   "execution_count": null,
   "id": "4593a693",
   "metadata": {},
   "outputs": [],
   "source": []
  }
 ],
 "metadata": {
  "kernelspec": {
   "display_name": "base",
   "language": "python",
   "name": "python3"
  },
  "language_info": {
   "codemirror_mode": {
    "name": "ipython",
    "version": 3
   },
   "file_extension": ".py",
   "mimetype": "text/x-python",
   "name": "python",
   "nbconvert_exporter": "python",
   "pygments_lexer": "ipython3",
   "version": "3.12.7"
  }
 },
 "nbformat": 4,
 "nbformat_minor": 5
}
