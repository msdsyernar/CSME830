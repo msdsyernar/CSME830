{
 "cells": [
  {
   "cell_type": "markdown",
   "id": "c61e80a1",
   "metadata": {},
   "source": [
    "# Secondary dataset"
   ]
  },
  {
   "cell_type": "markdown",
   "id": "4badeac3",
   "metadata": {},
   "source": [
    "I found this small dataset in Kaggle after searching for a while. GDP by states wasn't exactly what I am looking for, neither GDP by cities. Worth to mention that, this dataset have crime rate and school rate by zip code, the features which affect the price most."
   ]
  },
  {
   "cell_type": "code",
   "execution_count": 1,
   "id": "c0446043",
   "metadata": {},
   "outputs": [
    {
     "name": "stdout",
     "output_type": "stream",
     "text": [
      "Downloading from https://www.kaggle.com/api/v1/datasets/download/arnavgupta1205/usa-housing-dataset?dataset_version_number=1...\n"
     ]
    },
    {
     "name": "stderr",
     "output_type": "stream",
     "text": [
      "100%|██████████| 6.28k/6.28k [00:00<00:00, 6.44MB/s]"
     ]
    },
    {
     "name": "stdout",
     "output_type": "stream",
     "text": [
      "Extracting files...\n",
      "Path to dataset files: C:\\Users\\Администратор\\.cache\\kagglehub\\datasets\\arnavgupta1205\\usa-housing-dataset\\versions\\1\n"
     ]
    },
    {
     "name": "stderr",
     "output_type": "stream",
     "text": [
      "\n"
     ]
    }
   ],
   "source": [
    "import kagglehub\n",
    "\n",
    "# Download latest version\n",
    "path = kagglehub.dataset_download(\"arnavgupta1205/usa-housing-dataset\")\n",
    "\n",
    "print(\"Path to dataset files:\", path)"
   ]
  },
  {
   "cell_type": "code",
   "execution_count": 2,
   "id": "f055eac4",
   "metadata": {},
   "outputs": [
    {
     "name": "stdout",
     "output_type": "stream",
     "text": [
      "    Price  Bedrooms  Bathrooms  SquareFeet  YearBuilt  GarageSpaces  LotSize  \\\n",
      "0  221958         1        1.9        4827       1979             2     1.45   \n",
      "1  771155         2        2.0        1035       1987             2     1.75   \n",
      "2  231932         1        3.0        2769       1982             1     1.46   \n",
      "3  465838         3        3.3        2708       1907             3     1.62   \n",
      "4  359178         4        3.4        1175       1994             2     0.74   \n",
      "\n",
      "   ZipCode  CrimeRate  SchoolRating  \n",
      "0    82240      48.60             5  \n",
      "1    74315      92.03             9  \n",
      "2    79249      52.08             3  \n",
      "3    80587      61.65             1  \n",
      "4    20756      15.66             4  \n"
     ]
    }
   ],
   "source": [
    "import pandas as pd \n",
    "data = pd.read_csv('additional.csv')\n",
    "print(data.head())"
   ]
  },
  {
   "cell_type": "code",
   "execution_count": 3,
   "id": "f8ff9b62",
   "metadata": {},
   "outputs": [],
   "source": [
    "data.drop(columns=['Price', 'Bedrooms', 'Bathrooms', 'SquareFeet', 'YearBuilt', \"GarageSpaces\", 'LotSize' ], inplace=True)\n",
    "data.to_csv('secondary.csv', index=False)"
   ]
  },
  {
   "cell_type": "code",
   "execution_count": 4,
   "id": "2a63fa2c",
   "metadata": {},
   "outputs": [
    {
     "data": {
      "text/html": [
       "<div>\n",
       "<style scoped>\n",
       "    .dataframe tbody tr th:only-of-type {\n",
       "        vertical-align: middle;\n",
       "    }\n",
       "\n",
       "    .dataframe tbody tr th {\n",
       "        vertical-align: top;\n",
       "    }\n",
       "\n",
       "    .dataframe thead th {\n",
       "        text-align: right;\n",
       "    }\n",
       "</style>\n",
       "<table border=\"1\" class=\"dataframe\">\n",
       "  <thead>\n",
       "    <tr style=\"text-align: right;\">\n",
       "      <th></th>\n",
       "      <th>ZipCode</th>\n",
       "      <th>CrimeRate</th>\n",
       "      <th>SchoolRating</th>\n",
       "    </tr>\n",
       "  </thead>\n",
       "  <tbody>\n",
       "    <tr>\n",
       "      <th>0</th>\n",
       "      <td>82240</td>\n",
       "      <td>48.60</td>\n",
       "      <td>5</td>\n",
       "    </tr>\n",
       "    <tr>\n",
       "      <th>1</th>\n",
       "      <td>74315</td>\n",
       "      <td>92.03</td>\n",
       "      <td>9</td>\n",
       "    </tr>\n",
       "    <tr>\n",
       "      <th>2</th>\n",
       "      <td>79249</td>\n",
       "      <td>52.08</td>\n",
       "      <td>3</td>\n",
       "    </tr>\n",
       "    <tr>\n",
       "      <th>3</th>\n",
       "      <td>80587</td>\n",
       "      <td>61.65</td>\n",
       "      <td>1</td>\n",
       "    </tr>\n",
       "    <tr>\n",
       "      <th>4</th>\n",
       "      <td>20756</td>\n",
       "      <td>15.66</td>\n",
       "      <td>4</td>\n",
       "    </tr>\n",
       "  </tbody>\n",
       "</table>\n",
       "</div>"
      ],
      "text/plain": [
       "   ZipCode  CrimeRate  SchoolRating\n",
       "0    82240      48.60             5\n",
       "1    74315      92.03             9\n",
       "2    79249      52.08             3\n",
       "3    80587      61.65             1\n",
       "4    20756      15.66             4"
      ]
     },
     "execution_count": 4,
     "metadata": {},
     "output_type": "execute_result"
    }
   ],
   "source": [
    "data.head()"
   ]
  },
  {
   "cell_type": "code",
   "execution_count": 5,
   "id": "0a53e087",
   "metadata": {},
   "outputs": [
    {
     "data": {
      "text/plain": [
       "(300, 3)"
      ]
     },
     "execution_count": 5,
     "metadata": {},
     "output_type": "execute_result"
    }
   ],
   "source": [
    "data.shape"
   ]
  },
  {
   "cell_type": "code",
   "execution_count": null,
   "id": "ac3471a1",
   "metadata": {},
   "outputs": [],
   "source": []
  }
 ],
 "metadata": {
  "kernelspec": {
   "display_name": "base",
   "language": "python",
   "name": "python3"
  },
  "language_info": {
   "codemirror_mode": {
    "name": "ipython",
    "version": 3
   },
   "file_extension": ".py",
   "mimetype": "text/x-python",
   "name": "python",
   "nbconvert_exporter": "python",
   "pygments_lexer": "ipython3",
   "version": "3.12.7"
  }
 },
 "nbformat": 4,
 "nbformat_minor": 5
}
